{
 "cells": [
  {
   "cell_type": "markdown",
   "metadata": {},
   "source": [
    "## 1. The objective of the purposed research"
   ]
  },
  {
   "cell_type": "markdown",
   "metadata": {},
   "source": [
    "- Ashlea Pin Jui Huang\n",
    "- Theerawat Jingdapoo"
   ]
  },
  {
   "cell_type": "markdown",
   "metadata": {},
   "source": [
    "For all we know, the housing prices depend on various factors. Furthermore, those factors also varies across different kind of markets. What we will be doing here is to help the mayor predict how the housing price is going in the future. \n",
    "\n",
    "In order to help buyers in the real estate to have a better understanding about the housing price, in this analysis, we will use dataset of the King County, USA to build a regression model that will help predicting the housing prices in this region.\n",
    "\n",
    "As you can guess, there are different methods to achieve this, however, we are going to use linear regression to predict the prices. We will start with the simple model and then continue with the more complex ones then try to find the best model."
   ]
  },
  {
   "cell_type": "markdown",
   "metadata": {},
   "source": [
    "## 2. Data Exploration"
   ]
  },
  {
   "cell_type": "code",
   "execution_count": 1,
   "metadata": {},
   "outputs": [],
   "source": [
    "d <- read.csv(\"kc_house_data.csv\", stringsAsFactors = F)"
   ]
  },
  {
   "cell_type": "code",
   "execution_count": 2,
   "metadata": {},
   "outputs": [
    {
     "name": "stdout",
     "output_type": "stream",
     "text": [
      "'data.frame':\t21613 obs. of  21 variables:\n",
      " $ id           : num  7.13e+09 6.41e+09 5.63e+09 2.49e+09 1.95e+09 ...\n",
      " $ date         : chr  \"20141013T000000\" \"20141209T000000\" \"20150225T000000\" \"20141209T000000\" ...\n",
      " $ price        : num  221900 538000 180000 604000 510000 ...\n",
      " $ bedrooms     : int  3 3 2 4 3 4 3 3 3 3 ...\n",
      " $ bathrooms    : num  1 2.25 1 3 2 4.5 2.25 1.5 1 2.5 ...\n",
      " $ sqft_living  : int  1180 2570 770 1960 1680 5420 1715 1060 1780 1890 ...\n",
      " $ sqft_lot     : int  5650 7242 10000 5000 8080 101930 6819 9711 7470 6560 ...\n",
      " $ floors       : num  1 2 1 1 1 1 2 1 1 2 ...\n",
      " $ waterfront   : int  0 0 0 0 0 0 0 0 0 0 ...\n",
      " $ view         : int  0 0 0 0 0 0 0 0 0 0 ...\n",
      " $ condition    : int  3 3 3 5 3 3 3 3 3 3 ...\n",
      " $ grade        : int  7 7 6 7 8 11 7 7 7 7 ...\n",
      " $ sqft_above   : int  1180 2170 770 1050 1680 3890 1715 1060 1050 1890 ...\n",
      " $ sqft_basement: int  0 400 0 910 0 1530 0 0 730 0 ...\n",
      " $ yr_built     : int  1955 1951 1933 1965 1987 2001 1995 1963 1960 2003 ...\n",
      " $ yr_renovated : int  0 1991 0 0 0 0 0 0 0 0 ...\n",
      " $ zipcode      : int  98178 98125 98028 98136 98074 98053 98003 98198 98146 98038 ...\n",
      " $ lat          : num  47.5 47.7 47.7 47.5 47.6 ...\n",
      " $ long         : num  -122 -122 -122 -122 -122 ...\n",
      " $ sqft_living15: int  1340 1690 2720 1360 1800 4760 2238 1650 1780 2390 ...\n",
      " $ sqft_lot15   : int  5650 7639 8062 5000 7503 101930 6819 9711 8113 7570 ...\n"
     ]
    },
    {
     "data": {
      "text/html": [
       "<table>\n",
       "<thead><tr><th scope=col>id</th><th scope=col>date</th><th scope=col>price</th><th scope=col>bedrooms</th><th scope=col>bathrooms</th><th scope=col>sqft_living</th><th scope=col>sqft_lot</th><th scope=col>floors</th><th scope=col>waterfront</th><th scope=col>view</th><th scope=col>...</th><th scope=col>grade</th><th scope=col>sqft_above</th><th scope=col>sqft_basement</th><th scope=col>yr_built</th><th scope=col>yr_renovated</th><th scope=col>zipcode</th><th scope=col>lat</th><th scope=col>long</th><th scope=col>sqft_living15</th><th scope=col>sqft_lot15</th></tr></thead>\n",
       "<tbody>\n",
       "\t<tr><td>7129300520     </td><td>20141013T000000</td><td> 221900        </td><td>3              </td><td>1.00           </td><td>1180           </td><td>  5650         </td><td>1              </td><td>0              </td><td>0              </td><td>...            </td><td> 7             </td><td>1180           </td><td>   0           </td><td>1955           </td><td>   0           </td><td>98178          </td><td>47.5112        </td><td>-122.257       </td><td>1340           </td><td>  5650         </td></tr>\n",
       "\t<tr><td>6414100192     </td><td>20141209T000000</td><td> 538000        </td><td>3              </td><td>2.25           </td><td>2570           </td><td>  7242         </td><td>2              </td><td>0              </td><td>0              </td><td>...            </td><td> 7             </td><td>2170           </td><td> 400           </td><td>1951           </td><td>1991           </td><td>98125          </td><td>47.7210        </td><td>-122.319       </td><td>1690           </td><td>  7639         </td></tr>\n",
       "\t<tr><td>5631500400     </td><td>20150225T000000</td><td> 180000        </td><td>2              </td><td>1.00           </td><td> 770           </td><td> 10000         </td><td>1              </td><td>0              </td><td>0              </td><td>...            </td><td> 6             </td><td> 770           </td><td>   0           </td><td>1933           </td><td>   0           </td><td>98028          </td><td>47.7379        </td><td>-122.233       </td><td>2720           </td><td>  8062         </td></tr>\n",
       "\t<tr><td>2487200875     </td><td>20141209T000000</td><td> 604000        </td><td>4              </td><td>3.00           </td><td>1960           </td><td>  5000         </td><td>1              </td><td>0              </td><td>0              </td><td>...            </td><td> 7             </td><td>1050           </td><td> 910           </td><td>1965           </td><td>   0           </td><td>98136          </td><td>47.5208        </td><td>-122.393       </td><td>1360           </td><td>  5000         </td></tr>\n",
       "\t<tr><td>1954400510     </td><td>20150218T000000</td><td> 510000        </td><td>3              </td><td>2.00           </td><td>1680           </td><td>  8080         </td><td>1              </td><td>0              </td><td>0              </td><td>...            </td><td> 8             </td><td>1680           </td><td>   0           </td><td>1987           </td><td>   0           </td><td>98074          </td><td>47.6168        </td><td>-122.045       </td><td>1800           </td><td>  7503         </td></tr>\n",
       "\t<tr><td>7237550310     </td><td>20140512T000000</td><td>1225000        </td><td>4              </td><td>4.50           </td><td>5420           </td><td>101930         </td><td>1              </td><td>0              </td><td>0              </td><td>...            </td><td>11             </td><td>3890           </td><td>1530           </td><td>2001           </td><td>   0           </td><td>98053          </td><td>47.6561        </td><td>-122.005       </td><td>4760           </td><td>101930         </td></tr>\n",
       "</tbody>\n",
       "</table>\n"
      ],
      "text/latex": [
       "\\begin{tabular}{r|lllllllllllllllllllll}\n",
       " id & date & price & bedrooms & bathrooms & sqft\\_living & sqft\\_lot & floors & waterfront & view & ... & grade & sqft\\_above & sqft\\_basement & yr\\_built & yr\\_renovated & zipcode & lat & long & sqft\\_living15 & sqft\\_lot15\\\\\n",
       "\\hline\n",
       "\t 7129300520      & 20141013T000000 &  221900         & 3               & 1.00            & 1180            &   5650          & 1               & 0               & 0               & ...             &  7              & 1180            &    0            & 1955            &    0            & 98178           & 47.5112         & -122.257        & 1340            &   5650         \\\\\n",
       "\t 6414100192      & 20141209T000000 &  538000         & 3               & 2.25            & 2570            &   7242          & 2               & 0               & 0               & ...             &  7              & 2170            &  400            & 1951            & 1991            & 98125           & 47.7210         & -122.319        & 1690            &   7639         \\\\\n",
       "\t 5631500400      & 20150225T000000 &  180000         & 2               & 1.00            &  770            &  10000          & 1               & 0               & 0               & ...             &  6              &  770            &    0            & 1933            &    0            & 98028           & 47.7379         & -122.233        & 2720            &   8062         \\\\\n",
       "\t 2487200875      & 20141209T000000 &  604000         & 4               & 3.00            & 1960            &   5000          & 1               & 0               & 0               & ...             &  7              & 1050            &  910            & 1965            &    0            & 98136           & 47.5208         & -122.393        & 1360            &   5000         \\\\\n",
       "\t 1954400510      & 20150218T000000 &  510000         & 3               & 2.00            & 1680            &   8080          & 1               & 0               & 0               & ...             &  8              & 1680            &    0            & 1987            &    0            & 98074           & 47.6168         & -122.045        & 1800            &   7503         \\\\\n",
       "\t 7237550310      & 20140512T000000 & 1225000         & 4               & 4.50            & 5420            & 101930          & 1               & 0               & 0               & ...             & 11              & 3890            & 1530            & 2001            &    0            & 98053           & 47.6561         & -122.005        & 4760            & 101930         \\\\\n",
       "\\end{tabular}\n"
      ],
      "text/markdown": [
       "\n",
       "| id | date | price | bedrooms | bathrooms | sqft_living | sqft_lot | floors | waterfront | view | ... | grade | sqft_above | sqft_basement | yr_built | yr_renovated | zipcode | lat | long | sqft_living15 | sqft_lot15 |\n",
       "|---|---|---|---|---|---|---|---|---|---|---|---|---|---|---|---|---|---|---|---|---|\n",
       "| 7129300520      | 20141013T000000 |  221900         | 3               | 1.00            | 1180            |   5650          | 1               | 0               | 0               | ...             |  7              | 1180            |    0            | 1955            |    0            | 98178           | 47.5112         | -122.257        | 1340            |   5650          |\n",
       "| 6414100192      | 20141209T000000 |  538000         | 3               | 2.25            | 2570            |   7242          | 2               | 0               | 0               | ...             |  7              | 2170            |  400            | 1951            | 1991            | 98125           | 47.7210         | -122.319        | 1690            |   7639          |\n",
       "| 5631500400      | 20150225T000000 |  180000         | 2               | 1.00            |  770            |  10000          | 1               | 0               | 0               | ...             |  6              |  770            |    0            | 1933            |    0            | 98028           | 47.7379         | -122.233        | 2720            |   8062          |\n",
       "| 2487200875      | 20141209T000000 |  604000         | 4               | 3.00            | 1960            |   5000          | 1               | 0               | 0               | ...             |  7              | 1050            |  910            | 1965            |    0            | 98136           | 47.5208         | -122.393        | 1360            |   5000          |\n",
       "| 1954400510      | 20150218T000000 |  510000         | 3               | 2.00            | 1680            |   8080          | 1               | 0               | 0               | ...             |  8              | 1680            |    0            | 1987            |    0            | 98074           | 47.6168         | -122.045        | 1800            |   7503          |\n",
       "| 7237550310      | 20140512T000000 | 1225000         | 4               | 4.50            | 5420            | 101930          | 1               | 0               | 0               | ...             | 11              | 3890            | 1530            | 2001            |    0            | 98053           | 47.6561         | -122.005        | 4760            | 101930          |\n",
       "\n"
      ],
      "text/plain": [
       "  id         date            price   bedrooms bathrooms sqft_living sqft_lot\n",
       "1 7129300520 20141013T000000  221900 3        1.00      1180          5650  \n",
       "2 6414100192 20141209T000000  538000 3        2.25      2570          7242  \n",
       "3 5631500400 20150225T000000  180000 2        1.00       770         10000  \n",
       "4 2487200875 20141209T000000  604000 4        3.00      1960          5000  \n",
       "5 1954400510 20150218T000000  510000 3        2.00      1680          8080  \n",
       "6 7237550310 20140512T000000 1225000 4        4.50      5420        101930  \n",
       "  floors waterfront view ... grade sqft_above sqft_basement yr_built\n",
       "1 1      0          0    ...  7    1180          0          1955    \n",
       "2 2      0          0    ...  7    2170        400          1951    \n",
       "3 1      0          0    ...  6     770          0          1933    \n",
       "4 1      0          0    ...  7    1050        910          1965    \n",
       "5 1      0          0    ...  8    1680          0          1987    \n",
       "6 1      0          0    ... 11    3890       1530          2001    \n",
       "  yr_renovated zipcode lat     long     sqft_living15 sqft_lot15\n",
       "1    0         98178   47.5112 -122.257 1340            5650    \n",
       "2 1991         98125   47.7210 -122.319 1690            7639    \n",
       "3    0         98028   47.7379 -122.233 2720            8062    \n",
       "4    0         98136   47.5208 -122.393 1360            5000    \n",
       "5    0         98074   47.6168 -122.045 1800            7503    \n",
       "6    0         98053   47.6561 -122.005 4760          101930    "
      ]
     },
     "metadata": {},
     "output_type": "display_data"
    }
   ],
   "source": [
    "str(d)\n",
    "head(d)"
   ]
  },
  {
   "cell_type": "code",
   "execution_count": 3,
   "metadata": {},
   "outputs": [
    {
     "data": {
      "text/html": [
       "<ol class=list-inline>\n",
       "\t<li>'2014'</li>\n",
       "\t<li>'2015'</li>\n",
       "</ol>\n"
      ],
      "text/latex": [
       "\\begin{enumerate*}\n",
       "\\item '2014'\n",
       "\\item '2015'\n",
       "\\end{enumerate*}\n"
      ],
      "text/markdown": [
       "1. '2014'\n",
       "2. '2015'\n",
       "\n",
       "\n"
      ],
      "text/plain": [
       "[1] \"2014\" \"2015\""
      ]
     },
     "metadata": {},
     "output_type": "display_data"
    }
   ],
   "source": [
    "d$date[grepl('2014', d$date)] <- '2014'\n",
    "d$date[grepl('2015', d$date)] <- '2015'\n",
    "colnames(d)[colnames(d)=='date'] <- 'year'\n",
    "d$year <- as.factor(d$year)\n",
    "levels(d$year)"
   ]
  },
  {
   "cell_type": "markdown",
   "metadata": {},
   "source": [
    "After looking through the data, first, we want to change \"date\" variable. You can see that it has only 2 years: 2014 and 2015, so we decide to show only years. we know we are not doing Time Series right now but it would be easier for doing linear regression later on. "
   ]
  },
  {
   "cell_type": "code",
   "execution_count": 4,
   "metadata": {
    "scrolled": false
   },
   "outputs": [
    {
     "data": {
      "text/html": [
       "<table>\n",
       "<thead><tr><th scope=col>id</th><th scope=col>year</th><th scope=col>price</th><th scope=col>bedrooms</th><th scope=col>bathrooms</th><th scope=col>sqft_living</th><th scope=col>sqft_lot</th><th scope=col>floors</th><th scope=col>waterfront</th><th scope=col>view</th><th scope=col>...</th><th scope=col>grade</th><th scope=col>sqft_above</th><th scope=col>sqft_basement</th><th scope=col>yr_built</th><th scope=col>yr_renovated</th><th scope=col>zipcode</th><th scope=col>lat</th><th scope=col>long</th><th scope=col>sqft_living15</th><th scope=col>sqft_lot15</th></tr></thead>\n",
       "<tbody>\n",
       "\t<tr><td>7129300520</td><td>2014      </td><td> 221900   </td><td>3         </td><td>1.00      </td><td>1180      </td><td>  5650    </td><td>1         </td><td>0         </td><td>0         </td><td>...       </td><td> 7        </td><td>1180      </td><td>   0      </td><td>1955      </td><td>   0      </td><td>98178     </td><td>47.5112   </td><td>-122.257  </td><td>1340      </td><td>  5650    </td></tr>\n",
       "\t<tr><td>6414100192</td><td>2014      </td><td> 538000   </td><td>3         </td><td>2.25      </td><td>2570      </td><td>  7242    </td><td>2         </td><td>0         </td><td>0         </td><td>...       </td><td> 7        </td><td>2170      </td><td> 400      </td><td>1951      </td><td>1991      </td><td>98125     </td><td>47.7210   </td><td>-122.319  </td><td>1690      </td><td>  7639    </td></tr>\n",
       "\t<tr><td>5631500400</td><td>2015      </td><td> 180000   </td><td>2         </td><td>1.00      </td><td> 770      </td><td> 10000    </td><td>1         </td><td>0         </td><td>0         </td><td>...       </td><td> 6        </td><td> 770      </td><td>   0      </td><td>1933      </td><td>   0      </td><td>98028     </td><td>47.7379   </td><td>-122.233  </td><td>2720      </td><td>  8062    </td></tr>\n",
       "\t<tr><td>2487200875</td><td>2014      </td><td> 604000   </td><td>4         </td><td>3.00      </td><td>1960      </td><td>  5000    </td><td>1         </td><td>0         </td><td>0         </td><td>...       </td><td> 7        </td><td>1050      </td><td> 910      </td><td>1965      </td><td>   0      </td><td>98136     </td><td>47.5208   </td><td>-122.393  </td><td>1360      </td><td>  5000    </td></tr>\n",
       "\t<tr><td>1954400510</td><td>2015      </td><td> 510000   </td><td>3         </td><td>2.00      </td><td>1680      </td><td>  8080    </td><td>1         </td><td>0         </td><td>0         </td><td>...       </td><td> 8        </td><td>1680      </td><td>   0      </td><td>1987      </td><td>   0      </td><td>98074     </td><td>47.6168   </td><td>-122.045  </td><td>1800      </td><td>  7503    </td></tr>\n",
       "\t<tr><td>7237550310</td><td>2014      </td><td>1225000   </td><td>4         </td><td>4.50      </td><td>5420      </td><td>101930    </td><td>1         </td><td>0         </td><td>0         </td><td>...       </td><td>11        </td><td>3890      </td><td>1530      </td><td>2001      </td><td>   0      </td><td>98053     </td><td>47.6561   </td><td>-122.005  </td><td>4760      </td><td>101930    </td></tr>\n",
       "\t<tr><td>1321400060</td><td>2014      </td><td> 257500   </td><td>3         </td><td>2.25      </td><td>1715      </td><td>  6819    </td><td>2         </td><td>0         </td><td>0         </td><td>...       </td><td> 7        </td><td>1715      </td><td>   0      </td><td>1995      </td><td>   0      </td><td>98003     </td><td>47.3097   </td><td>-122.327  </td><td>2238      </td><td>  6819    </td></tr>\n",
       "\t<tr><td>2008000270</td><td>2015      </td><td> 291850   </td><td>3         </td><td>1.50      </td><td>1060      </td><td>  9711    </td><td>1         </td><td>0         </td><td>0         </td><td>...       </td><td> 7        </td><td>1060      </td><td>   0      </td><td>1963      </td><td>   0      </td><td>98198     </td><td>47.4095   </td><td>-122.315  </td><td>1650      </td><td>  9711    </td></tr>\n",
       "\t<tr><td>2414600126</td><td>2015      </td><td> 229500   </td><td>3         </td><td>1.00      </td><td>1780      </td><td>  7470    </td><td>1         </td><td>0         </td><td>0         </td><td>...       </td><td> 7        </td><td>1050      </td><td> 730      </td><td>1960      </td><td>   0      </td><td>98146     </td><td>47.5123   </td><td>-122.337  </td><td>1780      </td><td>  8113    </td></tr>\n",
       "\t<tr><td>3793500160</td><td>2015      </td><td> 323000   </td><td>3         </td><td>2.50      </td><td>1890      </td><td>  6560    </td><td>2         </td><td>0         </td><td>0         </td><td>...       </td><td> 7        </td><td>1890      </td><td>   0      </td><td>2003      </td><td>   0      </td><td>98038     </td><td>47.3684   </td><td>-122.031  </td><td>2390      </td><td>  7570    </td></tr>\n",
       "</tbody>\n",
       "</table>\n"
      ],
      "text/latex": [
       "\\begin{tabular}{r|lllllllllllllllllllll}\n",
       " id & year & price & bedrooms & bathrooms & sqft\\_living & sqft\\_lot & floors & waterfront & view & ... & grade & sqft\\_above & sqft\\_basement & yr\\_built & yr\\_renovated & zipcode & lat & long & sqft\\_living15 & sqft\\_lot15\\\\\n",
       "\\hline\n",
       "\t 7129300520 & 2014       &  221900    & 3          & 1.00       & 1180       &   5650     & 1          & 0          & 0          & ...        &  7         & 1180       &    0       & 1955       &    0       & 98178      & 47.5112    & -122.257   & 1340       &   5650    \\\\\n",
       "\t 6414100192 & 2014       &  538000    & 3          & 2.25       & 2570       &   7242     & 2          & 0          & 0          & ...        &  7         & 2170       &  400       & 1951       & 1991       & 98125      & 47.7210    & -122.319   & 1690       &   7639    \\\\\n",
       "\t 5631500400 & 2015       &  180000    & 2          & 1.00       &  770       &  10000     & 1          & 0          & 0          & ...        &  6         &  770       &    0       & 1933       &    0       & 98028      & 47.7379    & -122.233   & 2720       &   8062    \\\\\n",
       "\t 2487200875 & 2014       &  604000    & 4          & 3.00       & 1960       &   5000     & 1          & 0          & 0          & ...        &  7         & 1050       &  910       & 1965       &    0       & 98136      & 47.5208    & -122.393   & 1360       &   5000    \\\\\n",
       "\t 1954400510 & 2015       &  510000    & 3          & 2.00       & 1680       &   8080     & 1          & 0          & 0          & ...        &  8         & 1680       &    0       & 1987       &    0       & 98074      & 47.6168    & -122.045   & 1800       &   7503    \\\\\n",
       "\t 7237550310 & 2014       & 1225000    & 4          & 4.50       & 5420       & 101930     & 1          & 0          & 0          & ...        & 11         & 3890       & 1530       & 2001       &    0       & 98053      & 47.6561    & -122.005   & 4760       & 101930    \\\\\n",
       "\t 1321400060 & 2014       &  257500    & 3          & 2.25       & 1715       &   6819     & 2          & 0          & 0          & ...        &  7         & 1715       &    0       & 1995       &    0       & 98003      & 47.3097    & -122.327   & 2238       &   6819    \\\\\n",
       "\t 2008000270 & 2015       &  291850    & 3          & 1.50       & 1060       &   9711     & 1          & 0          & 0          & ...        &  7         & 1060       &    0       & 1963       &    0       & 98198      & 47.4095    & -122.315   & 1650       &   9711    \\\\\n",
       "\t 2414600126 & 2015       &  229500    & 3          & 1.00       & 1780       &   7470     & 1          & 0          & 0          & ...        &  7         & 1050       &  730       & 1960       &    0       & 98146      & 47.5123    & -122.337   & 1780       &   8113    \\\\\n",
       "\t 3793500160 & 2015       &  323000    & 3          & 2.50       & 1890       &   6560     & 2          & 0          & 0          & ...        &  7         & 1890       &    0       & 2003       &    0       & 98038      & 47.3684    & -122.031   & 2390       &   7570    \\\\\n",
       "\\end{tabular}\n"
      ],
      "text/markdown": [
       "\n",
       "| id | year | price | bedrooms | bathrooms | sqft_living | sqft_lot | floors | waterfront | view | ... | grade | sqft_above | sqft_basement | yr_built | yr_renovated | zipcode | lat | long | sqft_living15 | sqft_lot15 |\n",
       "|---|---|---|---|---|---|---|---|---|---|---|---|---|---|---|---|---|---|---|---|---|\n",
       "| 7129300520 | 2014       |  221900    | 3          | 1.00       | 1180       |   5650     | 1          | 0          | 0          | ...        |  7         | 1180       |    0       | 1955       |    0       | 98178      | 47.5112    | -122.257   | 1340       |   5650     |\n",
       "| 6414100192 | 2014       |  538000    | 3          | 2.25       | 2570       |   7242     | 2          | 0          | 0          | ...        |  7         | 2170       |  400       | 1951       | 1991       | 98125      | 47.7210    | -122.319   | 1690       |   7639     |\n",
       "| 5631500400 | 2015       |  180000    | 2          | 1.00       |  770       |  10000     | 1          | 0          | 0          | ...        |  6         |  770       |    0       | 1933       |    0       | 98028      | 47.7379    | -122.233   | 2720       |   8062     |\n",
       "| 2487200875 | 2014       |  604000    | 4          | 3.00       | 1960       |   5000     | 1          | 0          | 0          | ...        |  7         | 1050       |  910       | 1965       |    0       | 98136      | 47.5208    | -122.393   | 1360       |   5000     |\n",
       "| 1954400510 | 2015       |  510000    | 3          | 2.00       | 1680       |   8080     | 1          | 0          | 0          | ...        |  8         | 1680       |    0       | 1987       |    0       | 98074      | 47.6168    | -122.045   | 1800       |   7503     |\n",
       "| 7237550310 | 2014       | 1225000    | 4          | 4.50       | 5420       | 101930     | 1          | 0          | 0          | ...        | 11         | 3890       | 1530       | 2001       |    0       | 98053      | 47.6561    | -122.005   | 4760       | 101930     |\n",
       "| 1321400060 | 2014       |  257500    | 3          | 2.25       | 1715       |   6819     | 2          | 0          | 0          | ...        |  7         | 1715       |    0       | 1995       |    0       | 98003      | 47.3097    | -122.327   | 2238       |   6819     |\n",
       "| 2008000270 | 2015       |  291850    | 3          | 1.50       | 1060       |   9711     | 1          | 0          | 0          | ...        |  7         | 1060       |    0       | 1963       |    0       | 98198      | 47.4095    | -122.315   | 1650       |   9711     |\n",
       "| 2414600126 | 2015       |  229500    | 3          | 1.00       | 1780       |   7470     | 1          | 0          | 0          | ...        |  7         | 1050       |  730       | 1960       |    0       | 98146      | 47.5123    | -122.337   | 1780       |   8113     |\n",
       "| 3793500160 | 2015       |  323000    | 3          | 2.50       | 1890       |   6560     | 2          | 0          | 0          | ...        |  7         | 1890       |    0       | 2003       |    0       | 98038      | 47.3684    | -122.031   | 2390       |   7570     |\n",
       "\n"
      ],
      "text/plain": [
       "   id         year price   bedrooms bathrooms sqft_living sqft_lot floors\n",
       "1  7129300520 2014  221900 3        1.00      1180          5650   1     \n",
       "2  6414100192 2014  538000 3        2.25      2570          7242   2     \n",
       "3  5631500400 2015  180000 2        1.00       770         10000   1     \n",
       "4  2487200875 2014  604000 4        3.00      1960          5000   1     \n",
       "5  1954400510 2015  510000 3        2.00      1680          8080   1     \n",
       "6  7237550310 2014 1225000 4        4.50      5420        101930   1     \n",
       "7  1321400060 2014  257500 3        2.25      1715          6819   2     \n",
       "8  2008000270 2015  291850 3        1.50      1060          9711   1     \n",
       "9  2414600126 2015  229500 3        1.00      1780          7470   1     \n",
       "10 3793500160 2015  323000 3        2.50      1890          6560   2     \n",
       "   waterfront view ... grade sqft_above sqft_basement yr_built yr_renovated\n",
       "1  0          0    ...  7    1180          0          1955        0        \n",
       "2  0          0    ...  7    2170        400          1951     1991        \n",
       "3  0          0    ...  6     770          0          1933        0        \n",
       "4  0          0    ...  7    1050        910          1965        0        \n",
       "5  0          0    ...  8    1680          0          1987        0        \n",
       "6  0          0    ... 11    3890       1530          2001        0        \n",
       "7  0          0    ...  7    1715          0          1995        0        \n",
       "8  0          0    ...  7    1060          0          1963        0        \n",
       "9  0          0    ...  7    1050        730          1960        0        \n",
       "10 0          0    ...  7    1890          0          2003        0        \n",
       "   zipcode lat     long     sqft_living15 sqft_lot15\n",
       "1  98178   47.5112 -122.257 1340            5650    \n",
       "2  98125   47.7210 -122.319 1690            7639    \n",
       "3  98028   47.7379 -122.233 2720            8062    \n",
       "4  98136   47.5208 -122.393 1360            5000    \n",
       "5  98074   47.6168 -122.045 1800            7503    \n",
       "6  98053   47.6561 -122.005 4760          101930    \n",
       "7  98003   47.3097 -122.327 2238            6819    \n",
       "8  98198   47.4095 -122.315 1650            9711    \n",
       "9  98146   47.5123 -122.337 1780            8113    \n",
       "10 98038   47.3684 -122.031 2390            7570    "
      ]
     },
     "metadata": {},
     "output_type": "display_data"
    }
   ],
   "source": [
    "head(d, 10)"
   ]
  },
  {
   "cell_type": "markdown",
   "metadata": {},
   "source": [
    "## 3. Data Cleaning"
   ]
  },
  {
   "cell_type": "markdown",
   "metadata": {},
   "source": [
    "After checking the data, there is no negative value , therefore, there is no need to clean that part."
   ]
  },
  {
   "cell_type": "code",
   "execution_count": 5,
   "metadata": {
    "scrolled": true
   },
   "outputs": [
    {
     "data": {
      "text/html": [
       "177"
      ],
      "text/latex": [
       "177"
      ],
      "text/markdown": [
       "177"
      ],
      "text/plain": [
       "[1] 177"
      ]
     },
     "metadata": {},
     "output_type": "display_data"
    }
   ],
   "source": [
    "duplicate.id <- d[duplicated(d$id),]\n",
    "nrow(duplicate.id)"
   ]
  },
  {
   "cell_type": "markdown",
   "metadata": {},
   "source": [
    "\"id\" variable means house. Using duplicated function, we can see that there are quite a few row with the same house, hence, we decide to delete the duplicated one and keep the one with year 2015."
   ]
  },
  {
   "cell_type": "code",
   "execution_count": 6,
   "metadata": {},
   "outputs": [
    {
     "name": "stderr",
     "output_type": "stream",
     "text": [
      "Warning message in Ops.factor(d[, \"year\"]):\n",
      "\"'-' not meaningful for factors\""
     ]
    }
   ],
   "source": [
    "d$year <- as.factor(d$year)\n",
    "d1 <- d[order(d[,'id'],-d[,'year']),]\n",
    "d1 <- d[!duplicated(d$id),]\n",
    "d$year <- as.factor(d$year)"
   ]
  },
  {
   "cell_type": "code",
   "execution_count": 7,
   "metadata": {},
   "outputs": [
    {
     "data": {
      "text/html": [
       "0"
      ],
      "text/latex": [
       "0"
      ],
      "text/markdown": [
       "0"
      ],
      "text/plain": [
       "[1] 0"
      ]
     },
     "metadata": {},
     "output_type": "display_data"
    }
   ],
   "source": [
    "duplicate.id1 <- d1[duplicated(d1$id),]\n",
    "nrow(duplicate.id1)"
   ]
  },
  {
   "cell_type": "markdown",
   "metadata": {},
   "source": [
    "Now, we do not have any duplicate house."
   ]
  },
  {
   "cell_type": "code",
   "execution_count": 8,
   "metadata": {},
   "outputs": [
    {
     "data": {
      "text/html": [
       "<table>\n",
       "<thead><tr><th scope=col>id</th><th scope=col>year</th><th scope=col>price</th><th scope=col>bedrooms</th><th scope=col>bathrooms</th><th scope=col>sqft_living</th><th scope=col>sqft_lot</th><th scope=col>floors</th><th scope=col>waterfront</th><th scope=col>view</th><th scope=col>...</th><th scope=col>grade</th><th scope=col>sqft_above</th><th scope=col>sqft_basement</th><th scope=col>yr_built</th><th scope=col>yr_renovated</th><th scope=col>zipcode</th><th scope=col>lat</th><th scope=col>long</th><th scope=col>sqft_living15</th><th scope=col>sqft_lot15</th></tr></thead>\n",
       "<tbody>\n",
       "\t<tr><td>7129300520</td><td>2014      </td><td> 221900   </td><td>3         </td><td>1.00      </td><td>1180      </td><td>  5650    </td><td>1         </td><td>0         </td><td>0         </td><td>...       </td><td> 7        </td><td>1180      </td><td>   0      </td><td>1955      </td><td>   0      </td><td>98178     </td><td>47.5112   </td><td>-122.257  </td><td>1340      </td><td>  5650    </td></tr>\n",
       "\t<tr><td>6414100192</td><td>2014      </td><td> 538000   </td><td>3         </td><td>2.25      </td><td>2570      </td><td>  7242    </td><td>2         </td><td>0         </td><td>0         </td><td>...       </td><td> 7        </td><td>2170      </td><td> 400      </td><td>1951      </td><td>1991      </td><td>98125     </td><td>47.7210   </td><td>-122.319  </td><td>1690      </td><td>  7639    </td></tr>\n",
       "\t<tr><td>5631500400</td><td>2015      </td><td> 180000   </td><td>2         </td><td>1.00      </td><td> 770      </td><td> 10000    </td><td>1         </td><td>0         </td><td>0         </td><td>...       </td><td> 6        </td><td> 770      </td><td>   0      </td><td>1933      </td><td>   0      </td><td>98028     </td><td>47.7379   </td><td>-122.233  </td><td>2720      </td><td>  8062    </td></tr>\n",
       "\t<tr><td>2487200875</td><td>2014      </td><td> 604000   </td><td>4         </td><td>3.00      </td><td>1960      </td><td>  5000    </td><td>1         </td><td>0         </td><td>0         </td><td>...       </td><td> 7        </td><td>1050      </td><td> 910      </td><td>1965      </td><td>   0      </td><td>98136     </td><td>47.5208   </td><td>-122.393  </td><td>1360      </td><td>  5000    </td></tr>\n",
       "\t<tr><td>1954400510</td><td>2015      </td><td> 510000   </td><td>3         </td><td>2.00      </td><td>1680      </td><td>  8080    </td><td>1         </td><td>0         </td><td>0         </td><td>...       </td><td> 8        </td><td>1680      </td><td>   0      </td><td>1987      </td><td>   0      </td><td>98074     </td><td>47.6168   </td><td>-122.045  </td><td>1800      </td><td>  7503    </td></tr>\n",
       "\t<tr><td>7237550310</td><td>2014      </td><td>1225000   </td><td>4         </td><td>4.50      </td><td>5420      </td><td>101930    </td><td>1         </td><td>0         </td><td>0         </td><td>...       </td><td>11        </td><td>3890      </td><td>1530      </td><td>2001      </td><td>   0      </td><td>98053     </td><td>47.6561   </td><td>-122.005  </td><td>4760      </td><td>101930    </td></tr>\n",
       "</tbody>\n",
       "</table>\n"
      ],
      "text/latex": [
       "\\begin{tabular}{r|lllllllllllllllllllll}\n",
       " id & year & price & bedrooms & bathrooms & sqft\\_living & sqft\\_lot & floors & waterfront & view & ... & grade & sqft\\_above & sqft\\_basement & yr\\_built & yr\\_renovated & zipcode & lat & long & sqft\\_living15 & sqft\\_lot15\\\\\n",
       "\\hline\n",
       "\t 7129300520 & 2014       &  221900    & 3          & 1.00       & 1180       &   5650     & 1          & 0          & 0          & ...        &  7         & 1180       &    0       & 1955       &    0       & 98178      & 47.5112    & -122.257   & 1340       &   5650    \\\\\n",
       "\t 6414100192 & 2014       &  538000    & 3          & 2.25       & 2570       &   7242     & 2          & 0          & 0          & ...        &  7         & 2170       &  400       & 1951       & 1991       & 98125      & 47.7210    & -122.319   & 1690       &   7639    \\\\\n",
       "\t 5631500400 & 2015       &  180000    & 2          & 1.00       &  770       &  10000     & 1          & 0          & 0          & ...        &  6         &  770       &    0       & 1933       &    0       & 98028      & 47.7379    & -122.233   & 2720       &   8062    \\\\\n",
       "\t 2487200875 & 2014       &  604000    & 4          & 3.00       & 1960       &   5000     & 1          & 0          & 0          & ...        &  7         & 1050       &  910       & 1965       &    0       & 98136      & 47.5208    & -122.393   & 1360       &   5000    \\\\\n",
       "\t 1954400510 & 2015       &  510000    & 3          & 2.00       & 1680       &   8080     & 1          & 0          & 0          & ...        &  8         & 1680       &    0       & 1987       &    0       & 98074      & 47.6168    & -122.045   & 1800       &   7503    \\\\\n",
       "\t 7237550310 & 2014       & 1225000    & 4          & 4.50       & 5420       & 101930     & 1          & 0          & 0          & ...        & 11         & 3890       & 1530       & 2001       &    0       & 98053      & 47.6561    & -122.005   & 4760       & 101930    \\\\\n",
       "\\end{tabular}\n"
      ],
      "text/markdown": [
       "\n",
       "| id | year | price | bedrooms | bathrooms | sqft_living | sqft_lot | floors | waterfront | view | ... | grade | sqft_above | sqft_basement | yr_built | yr_renovated | zipcode | lat | long | sqft_living15 | sqft_lot15 |\n",
       "|---|---|---|---|---|---|---|---|---|---|---|---|---|---|---|---|---|---|---|---|---|\n",
       "| 7129300520 | 2014       |  221900    | 3          | 1.00       | 1180       |   5650     | 1          | 0          | 0          | ...        |  7         | 1180       |    0       | 1955       |    0       | 98178      | 47.5112    | -122.257   | 1340       |   5650     |\n",
       "| 6414100192 | 2014       |  538000    | 3          | 2.25       | 2570       |   7242     | 2          | 0          | 0          | ...        |  7         | 2170       |  400       | 1951       | 1991       | 98125      | 47.7210    | -122.319   | 1690       |   7639     |\n",
       "| 5631500400 | 2015       |  180000    | 2          | 1.00       |  770       |  10000     | 1          | 0          | 0          | ...        |  6         |  770       |    0       | 1933       |    0       | 98028      | 47.7379    | -122.233   | 2720       |   8062     |\n",
       "| 2487200875 | 2014       |  604000    | 4          | 3.00       | 1960       |   5000     | 1          | 0          | 0          | ...        |  7         | 1050       |  910       | 1965       |    0       | 98136      | 47.5208    | -122.393   | 1360       |   5000     |\n",
       "| 1954400510 | 2015       |  510000    | 3          | 2.00       | 1680       |   8080     | 1          | 0          | 0          | ...        |  8         | 1680       |    0       | 1987       |    0       | 98074      | 47.6168    | -122.045   | 1800       |   7503     |\n",
       "| 7237550310 | 2014       | 1225000    | 4          | 4.50       | 5420       | 101930     | 1          | 0          | 0          | ...        | 11         | 3890       | 1530       | 2001       |    0       | 98053      | 47.6561    | -122.005   | 4760       | 101930     |\n",
       "\n"
      ],
      "text/plain": [
       "  id         year price   bedrooms bathrooms sqft_living sqft_lot floors\n",
       "1 7129300520 2014  221900 3        1.00      1180          5650   1     \n",
       "2 6414100192 2014  538000 3        2.25      2570          7242   2     \n",
       "3 5631500400 2015  180000 2        1.00       770         10000   1     \n",
       "4 2487200875 2014  604000 4        3.00      1960          5000   1     \n",
       "5 1954400510 2015  510000 3        2.00      1680          8080   1     \n",
       "6 7237550310 2014 1225000 4        4.50      5420        101930   1     \n",
       "  waterfront view ... grade sqft_above sqft_basement yr_built yr_renovated\n",
       "1 0          0    ...  7    1180          0          1955        0        \n",
       "2 0          0    ...  7    2170        400          1951     1991        \n",
       "3 0          0    ...  6     770          0          1933        0        \n",
       "4 0          0    ...  7    1050        910          1965        0        \n",
       "5 0          0    ...  8    1680          0          1987        0        \n",
       "6 0          0    ... 11    3890       1530          2001        0        \n",
       "  zipcode lat     long     sqft_living15 sqft_lot15\n",
       "1 98178   47.5112 -122.257 1340            5650    \n",
       "2 98125   47.7210 -122.319 1690            7639    \n",
       "3 98028   47.7379 -122.233 2720            8062    \n",
       "4 98136   47.5208 -122.393 1360            5000    \n",
       "5 98074   47.6168 -122.045 1800            7503    \n",
       "6 98053   47.6561 -122.005 4760          101930    "
      ]
     },
     "metadata": {},
     "output_type": "display_data"
    }
   ],
   "source": [
    "head(d1)"
   ]
  },
  {
   "cell_type": "code",
   "execution_count": 9,
   "metadata": {},
   "outputs": [
    {
     "name": "stdout",
     "output_type": "stream",
     "text": [
      "'data.frame':\t21436 obs. of  21 variables:\n",
      " $ id           : num  7.13e+09 6.41e+09 5.63e+09 2.49e+09 1.95e+09 ...\n",
      " $ year         : Factor w/ 2 levels \"2014\",\"2015\": 1 1 2 1 2 1 1 2 2 2 ...\n",
      " $ price        : num  221900 538000 180000 604000 510000 ...\n",
      " $ bedrooms     : int  3 3 2 4 3 4 3 3 3 3 ...\n",
      " $ bathrooms    : num  1 2.25 1 3 2 4.5 2.25 1.5 1 2.5 ...\n",
      " $ sqft_living  : int  1180 2570 770 1960 1680 5420 1715 1060 1780 1890 ...\n",
      " $ sqft_lot     : int  5650 7242 10000 5000 8080 101930 6819 9711 7470 6560 ...\n",
      " $ floors       : num  1 2 1 1 1 1 2 1 1 2 ...\n",
      " $ waterfront   : int  0 0 0 0 0 0 0 0 0 0 ...\n",
      " $ view         : int  0 0 0 0 0 0 0 0 0 0 ...\n",
      " $ condition    : int  3 3 3 5 3 3 3 3 3 3 ...\n",
      " $ grade        : int  7 7 6 7 8 11 7 7 7 7 ...\n",
      " $ sqft_above   : int  1180 2170 770 1050 1680 3890 1715 1060 1050 1890 ...\n",
      " $ sqft_basement: int  0 400 0 910 0 1530 0 0 730 0 ...\n",
      " $ yr_built     : int  1955 1951 1933 1965 1987 2001 1995 1963 1960 2003 ...\n",
      " $ yr_renovated : int  0 1991 0 0 0 0 0 0 0 0 ...\n",
      " $ zipcode      : int  98178 98125 98028 98136 98074 98053 98003 98198 98146 98038 ...\n",
      " $ lat          : num  47.5 47.7 47.7 47.5 47.6 ...\n",
      " $ long         : num  -122 -122 -122 -122 -122 ...\n",
      " $ sqft_living15: int  1340 1690 2720 1360 1800 4760 2238 1650 1780 2390 ...\n",
      " $ sqft_lot15   : int  5650 7639 8062 5000 7503 101930 6819 9711 8113 7570 ...\n"
     ]
    }
   ],
   "source": [
    "str(d1)"
   ]
  },
  {
   "cell_type": "code",
   "execution_count": 10,
   "metadata": {},
   "outputs": [],
   "source": [
    "maindata <- d1[,c('year','price','bedrooms','bathrooms','sqft_living','sqft_lot','floors','waterfront','condition','grade','sqft_above','sqft_basement','yr_built','yr_renovated')]"
   ]
  },
  {
   "cell_type": "markdown",
   "metadata": {},
   "source": [
    "We select only the variables that I want to work with."
   ]
  },
  {
   "cell_type": "code",
   "execution_count": 11,
   "metadata": {},
   "outputs": [
    {
     "data": {
      "text/plain": [
       "Year\n",
       " 2014  2015 \n",
       "14633  6980 "
      ]
     },
     "metadata": {},
     "output_type": "display_data"
    }
   ],
   "source": [
    "maindata$year <- as.factor(maindata$year)\n",
    "Year <- d[,\"year\"]\n",
    "table(Year)"
   ]
  },
  {
   "cell_type": "markdown",
   "metadata": {},
   "source": [
    "We can see that data in 2014 is more than 2 times of data in 2015. For more accurate, we decide to keep only year 2015."
   ]
  },
  {
   "cell_type": "code",
   "execution_count": 12,
   "metadata": {},
   "outputs": [],
   "source": [
    "maindata <- subset(maindata, year == '2015')"
   ]
  },
  {
   "cell_type": "code",
   "execution_count": 13,
   "metadata": {},
   "outputs": [
    {
     "name": "stdout",
     "output_type": "stream",
     "text": [
      "'data.frame':\t6837 obs. of  14 variables:\n",
      " $ year         : Factor w/ 2 levels \"2014\",\"2015\": 2 2 2 2 2 2 2 2 2 2 ...\n",
      " $ price        : num  180000 510000 291850 229500 323000 ...\n",
      " $ bedrooms     : int  2 3 3 3 3 3 5 4 3 4 ...\n",
      " $ bathrooms    : num  1 2 1.5 1 2.5 2.5 2 3 1 2.5 ...\n",
      " $ sqft_living  : int  770 1680 1060 1780 1890 3560 1810 2950 1250 2570 ...\n",
      " $ sqft_lot     : int  10000 8080 9711 7470 6560 9796 4850 5000 9774 7173 ...\n",
      " $ floors       : num  1 1 1 1 2 1 1.5 2 1 2 ...\n",
      " $ waterfront   : int  0 0 0 0 0 0 0 0 0 0 ...\n",
      " $ condition    : int  3 3 3 3 3 3 3 3 4 3 ...\n",
      " $ grade        : int  6 8 7 7 7 8 7 9 7 8 ...\n",
      " $ sqft_above   : int  770 1680 1060 1050 1890 1860 1810 1980 1250 2570 ...\n",
      " $ sqft_basement: int  0 0 0 730 0 1700 0 970 0 0 ...\n",
      " $ yr_built     : int  1933 1987 1963 1960 2003 1965 1900 1979 1969 2005 ...\n",
      " $ yr_renovated : int  0 0 0 0 0 0 0 0 0 0 ...\n"
     ]
    }
   ],
   "source": [
    "str(maindata)"
   ]
  },
  {
   "cell_type": "markdown",
   "metadata": {},
   "source": [
    "## 4. Adaptation"
   ]
  },
  {
   "cell_type": "code",
   "execution_count": 14,
   "metadata": {},
   "outputs": [
    {
     "data": {
      "text/plain": [
       "\n",
       "   3    4    5    6    7    8    9   10   11   12   13 \n",
       "   2   10   83  679 2890 1912  780  327  118   33    3 "
      ]
     },
     "metadata": {},
     "output_type": "display_data"
    }
   ],
   "source": [
    "table(maindata$grade)"
   ]
  },
  {
   "cell_type": "code",
   "execution_count": 15,
   "metadata": {},
   "outputs": [
    {
     "data": {
      "text/plain": [
       "\n",
       "   1    2    3    4    5 \n",
       "  10   63 4575 1779  410 "
      ]
     },
     "metadata": {},
     "output_type": "display_data"
    }
   ],
   "source": [
    "table(maindata$condition)"
   ]
  },
  {
   "cell_type": "code",
   "execution_count": 16,
   "metadata": {},
   "outputs": [],
   "source": [
    "maindata$avg.condi.grade <- with(maindata, ((grade/13*10)+(condition*2))/2)"
   ]
  },
  {
   "cell_type": "code",
   "execution_count": 17,
   "metadata": {},
   "outputs": [],
   "source": [
    "maindata$age.of.house <- with(maindata, 2015-yr_built)"
   ]
  },
  {
   "cell_type": "code",
   "execution_count": 18,
   "metadata": {},
   "outputs": [
    {
     "name": "stdout",
     "output_type": "stream",
     "text": [
      "'data.frame':\t6837 obs. of  16 variables:\n",
      " $ year           : Factor w/ 2 levels \"2014\",\"2015\": 2 2 2 2 2 2 2 2 2 2 ...\n",
      " $ price          : num  180000 510000 291850 229500 323000 ...\n",
      " $ bedrooms       : int  2 3 3 3 3 3 5 4 3 4 ...\n",
      " $ bathrooms      : num  1 2 1.5 1 2.5 2.5 2 3 1 2.5 ...\n",
      " $ sqft_living    : int  770 1680 1060 1780 1890 3560 1810 2950 1250 2570 ...\n",
      " $ sqft_lot       : int  10000 8080 9711 7470 6560 9796 4850 5000 9774 7173 ...\n",
      " $ floors         : num  1 1 1 1 2 1 1.5 2 1 2 ...\n",
      " $ waterfront     : int  0 0 0 0 0 0 0 0 0 0 ...\n",
      " $ condition      : int  3 3 3 3 3 3 3 3 4 3 ...\n",
      " $ grade          : int  6 8 7 7 7 8 7 9 7 8 ...\n",
      " $ sqft_above     : int  770 1680 1060 1050 1890 1860 1810 1980 1250 2570 ...\n",
      " $ sqft_basement  : int  0 0 0 730 0 1700 0 970 0 0 ...\n",
      " $ yr_built       : int  1933 1987 1963 1960 2003 1965 1900 1979 1969 2005 ...\n",
      " $ yr_renovated   : int  0 0 0 0 0 0 0 0 0 0 ...\n",
      " $ avg.condi.grade: num  5.31 6.08 5.69 5.69 5.69 ...\n",
      " $ age.of.house   : num  82 28 52 55 12 50 115 36 46 10 ...\n"
     ]
    }
   ],
   "source": [
    "str(maindata)"
   ]
  },
  {
   "cell_type": "code",
   "execution_count": 19,
   "metadata": {},
   "outputs": [
    {
     "data": {
      "text/html": [
       "<table>\n",
       "<thead><tr><th></th><th scope=col>year</th><th scope=col>price</th><th scope=col>bedrooms</th><th scope=col>bathrooms</th><th scope=col>sqft_living</th><th scope=col>sqft_lot</th><th scope=col>floors</th><th scope=col>waterfront</th><th scope=col>condition</th><th scope=col>grade</th><th scope=col>sqft_above</th><th scope=col>sqft_basement</th><th scope=col>yr_built</th><th scope=col>yr_renovated</th><th scope=col>avg.condi.grade</th><th scope=col>age.of.house</th></tr></thead>\n",
       "<tbody>\n",
       "\t<tr><th scope=row>3</th><td>2015    </td><td>180000  </td><td>2       </td><td>1.0     </td><td> 770    </td><td>10000   </td><td>1       </td><td>0       </td><td>3       </td><td>6       </td><td> 770    </td><td>   0    </td><td>1933    </td><td>0       </td><td>5.307692</td><td>82      </td></tr>\n",
       "\t<tr><th scope=row>5</th><td>2015    </td><td>510000  </td><td>3       </td><td>2.0     </td><td>1680    </td><td> 8080   </td><td>1       </td><td>0       </td><td>3       </td><td>8       </td><td>1680    </td><td>   0    </td><td>1987    </td><td>0       </td><td>6.076923</td><td>28      </td></tr>\n",
       "\t<tr><th scope=row>8</th><td>2015    </td><td>291850  </td><td>3       </td><td>1.5     </td><td>1060    </td><td> 9711   </td><td>1       </td><td>0       </td><td>3       </td><td>7       </td><td>1060    </td><td>   0    </td><td>1963    </td><td>0       </td><td>5.692308</td><td>52      </td></tr>\n",
       "\t<tr><th scope=row>9</th><td>2015    </td><td>229500  </td><td>3       </td><td>1.0     </td><td>1780    </td><td> 7470   </td><td>1       </td><td>0       </td><td>3       </td><td>7       </td><td>1050    </td><td> 730    </td><td>1960    </td><td>0       </td><td>5.692308</td><td>55      </td></tr>\n",
       "\t<tr><th scope=row>10</th><td>2015    </td><td>323000  </td><td>3       </td><td>2.5     </td><td>1890    </td><td> 6560   </td><td>2       </td><td>0       </td><td>3       </td><td>7       </td><td>1890    </td><td>   0    </td><td>2003    </td><td>0       </td><td>5.692308</td><td>12      </td></tr>\n",
       "\t<tr><th scope=row>11</th><td>2015    </td><td>662500  </td><td>3       </td><td>2.5     </td><td>3560    </td><td> 9796   </td><td>1       </td><td>0       </td><td>3       </td><td>8       </td><td>1860    </td><td>1700    </td><td>1965    </td><td>0       </td><td>6.076923</td><td>50      </td></tr>\n",
       "</tbody>\n",
       "</table>\n"
      ],
      "text/latex": [
       "\\begin{tabular}{r|llllllllllllllll}\n",
       "  & year & price & bedrooms & bathrooms & sqft\\_living & sqft\\_lot & floors & waterfront & condition & grade & sqft\\_above & sqft\\_basement & yr\\_built & yr\\_renovated & avg.condi.grade & age.of.house\\\\\n",
       "\\hline\n",
       "\t3 & 2015     & 180000   & 2        & 1.0      &  770     & 10000    & 1        & 0        & 3        & 6        &  770     &    0     & 1933     & 0        & 5.307692 & 82      \\\\\n",
       "\t5 & 2015     & 510000   & 3        & 2.0      & 1680     &  8080    & 1        & 0        & 3        & 8        & 1680     &    0     & 1987     & 0        & 6.076923 & 28      \\\\\n",
       "\t8 & 2015     & 291850   & 3        & 1.5      & 1060     &  9711    & 1        & 0        & 3        & 7        & 1060     &    0     & 1963     & 0        & 5.692308 & 52      \\\\\n",
       "\t9 & 2015     & 229500   & 3        & 1.0      & 1780     &  7470    & 1        & 0        & 3        & 7        & 1050     &  730     & 1960     & 0        & 5.692308 & 55      \\\\\n",
       "\t10 & 2015     & 323000   & 3        & 2.5      & 1890     &  6560    & 2        & 0        & 3        & 7        & 1890     &    0     & 2003     & 0        & 5.692308 & 12      \\\\\n",
       "\t11 & 2015     & 662500   & 3        & 2.5      & 3560     &  9796    & 1        & 0        & 3        & 8        & 1860     & 1700     & 1965     & 0        & 6.076923 & 50      \\\\\n",
       "\\end{tabular}\n"
      ],
      "text/markdown": [
       "\n",
       "| <!--/--> | year | price | bedrooms | bathrooms | sqft_living | sqft_lot | floors | waterfront | condition | grade | sqft_above | sqft_basement | yr_built | yr_renovated | avg.condi.grade | age.of.house |\n",
       "|---|---|---|---|---|---|---|---|---|---|---|---|---|---|---|---|---|\n",
       "| 3 | 2015     | 180000   | 2        | 1.0      |  770     | 10000    | 1        | 0        | 3        | 6        |  770     |    0     | 1933     | 0        | 5.307692 | 82       |\n",
       "| 5 | 2015     | 510000   | 3        | 2.0      | 1680     |  8080    | 1        | 0        | 3        | 8        | 1680     |    0     | 1987     | 0        | 6.076923 | 28       |\n",
       "| 8 | 2015     | 291850   | 3        | 1.5      | 1060     |  9711    | 1        | 0        | 3        | 7        | 1060     |    0     | 1963     | 0        | 5.692308 | 52       |\n",
       "| 9 | 2015     | 229500   | 3        | 1.0      | 1780     |  7470    | 1        | 0        | 3        | 7        | 1050     |  730     | 1960     | 0        | 5.692308 | 55       |\n",
       "| 10 | 2015     | 323000   | 3        | 2.5      | 1890     |  6560    | 2        | 0        | 3        | 7        | 1890     |    0     | 2003     | 0        | 5.692308 | 12       |\n",
       "| 11 | 2015     | 662500   | 3        | 2.5      | 3560     |  9796    | 1        | 0        | 3        | 8        | 1860     | 1700     | 1965     | 0        | 6.076923 | 50       |\n",
       "\n"
      ],
      "text/plain": [
       "   year price  bedrooms bathrooms sqft_living sqft_lot floors waterfront\n",
       "3  2015 180000 2        1.0        770        10000    1      0         \n",
       "5  2015 510000 3        2.0       1680         8080    1      0         \n",
       "8  2015 291850 3        1.5       1060         9711    1      0         \n",
       "9  2015 229500 3        1.0       1780         7470    1      0         \n",
       "10 2015 323000 3        2.5       1890         6560    2      0         \n",
       "11 2015 662500 3        2.5       3560         9796    1      0         \n",
       "   condition grade sqft_above sqft_basement yr_built yr_renovated\n",
       "3  3         6      770          0          1933     0           \n",
       "5  3         8     1680          0          1987     0           \n",
       "8  3         7     1060          0          1963     0           \n",
       "9  3         7     1050        730          1960     0           \n",
       "10 3         7     1890          0          2003     0           \n",
       "11 3         8     1860       1700          1965     0           \n",
       "   avg.condi.grade age.of.house\n",
       "3  5.307692        82          \n",
       "5  6.076923        28          \n",
       "8  5.692308        52          \n",
       "9  5.692308        55          \n",
       "10 5.692308        12          \n",
       "11 6.076923        50          "
      ]
     },
     "metadata": {},
     "output_type": "display_data"
    }
   ],
   "source": [
    "head(maindata)"
   ]
  },
  {
   "cell_type": "markdown",
   "metadata": {},
   "source": [
    "Firat, we add 1 column \"avg.condi.grade\". We recalculate the score of grade and condition to be maximum at 10 first then average them. Bacause condition and score are similar, average of condition and score can be an important data.\n",
    " \n",
    "In addition, We also add 1 more column \"age.of.house\", calculate by 2015 - the year that the house was built. Bacause age of the house can be a factor to the price too."
   ]
  },
  {
   "cell_type": "markdown",
   "metadata": {},
   "source": [
    "## 5. Descriptive Visualization"
   ]
  },
  {
   "cell_type": "markdown",
   "metadata": {},
   "source": [
    "### 5.1 year built"
   ]
  },
  {
   "cell_type": "code",
   "execution_count": 20,
   "metadata": {
    "scrolled": false
   },
   "outputs": [
    {
     "data": {
      "image/png": "[encoded data removed]",
      "text/plain": [
       "Plot with title \"No. of house built by year\""
      ]
     },
     "metadata": {},
     "output_type": "display_data"
    }
   ],
   "source": [
    "hist(maindata$yr_built, col = \"chocolate\", xlab = \"year built\", ylab = \"no. of house\", main = \"No. of house built by year\")\n",
    "grid(nx=NA,ny=NULL,lty=1,lwd=1,col=\"grey\")"
   ]
  },
  {
   "cell_type": "markdown",
   "metadata": {},
   "source": [
    "    We can see that from this data, from 1940 to before 2000, the number of house built were around 600 to 900 houses but after 2010, the number of house built jump to more than 1000 houses."
   ]
  },
  {
   "cell_type": "code",
   "execution_count": 21,
   "metadata": {},
   "outputs": [
    {
     "name": "stderr",
     "output_type": "stream",
     "text": [
      "Registered S3 methods overwritten by 'ggplot2':\n",
      "  method         from \n",
      "  [.quosures     rlang\n",
      "  c.quosures     rlang\n",
      "  print.quosures rlang\n"
     ]
    }
   ],
   "source": [
    "library(ggplot2)"
   ]
  },
  {
   "cell_type": "markdown",
   "metadata": {},
   "source": [
    "### 5.2 average of condition and grade"
   ]
  },
  {
   "cell_type": "code",
   "execution_count": 61,
   "metadata": {
    "scrolled": false
   },
   "outputs": [
    {
     "data": {
      "image/png": "[encoded data removed]",
      "text/plain": [
       "plot without title"
      ]
     },
     "metadata": {},
     "output_type": "display_data"
    }
   ],
   "source": [
    "gg <- ggplot(data = maindata, aes(x = avg.condi.grade)) + geom_density(fill = 'green')\n",
    "gg + xlab('average between grade and condition')"
   ]
  },
  {
   "cell_type": "markdown",
   "metadata": {},
   "source": [
    "Most houses have the average between grade and condition from 5.5 to 7. almost looks like a normal distribution."
   ]
  },
  {
   "cell_type": "code",
   "execution_count": 23,
   "metadata": {},
   "outputs": [
    {
     "name": "stderr",
     "output_type": "stream",
     "text": [
      "\n",
      "Attaching package: 'dplyr'\n",
      "\n",
      "The following objects are masked from 'package:stats':\n",
      "\n",
      "    filter, lag\n",
      "\n",
      "The following objects are masked from 'package:base':\n",
      "\n",
      "    intersect, setdiff, setequal, union\n",
      "\n"
     ]
    }
   ],
   "source": [
    "library(magrittr)\n",
    "library(dplyr)"
   ]
  },
  {
   "cell_type": "markdown",
   "metadata": {},
   "source": [
    "### 5.3 number of bedroom"
   ]
  },
  {
   "cell_type": "code",
   "execution_count": 24,
   "metadata": {},
   "outputs": [
    {
     "data": {
      "text/html": [
       "<table>\n",
       "<thead><tr><th scope=col>bedrooms</th><th scope=col>frequency</th></tr></thead>\n",
       "<tbody>\n",
       "\t<tr><td>1         </td><td>  58      </td></tr>\n",
       "\t<tr><td>2         </td><td> 895      </td></tr>\n",
       "\t<tr><td>3         </td><td>3140      </td></tr>\n",
       "\t<tr><td>4         </td><td>2133      </td></tr>\n",
       "\t<tr><td>5 and more</td><td> 607      </td></tr>\n",
       "</tbody>\n",
       "</table>\n"
      ],
      "text/latex": [
       "\\begin{tabular}{r|ll}\n",
       " bedrooms & frequency\\\\\n",
       "\\hline\n",
       "\t 1          &   58      \\\\\n",
       "\t 2          &  895      \\\\\n",
       "\t 3          & 3140      \\\\\n",
       "\t 4          & 2133      \\\\\n",
       "\t 5 and more &  607      \\\\\n",
       "\\end{tabular}\n"
      ],
      "text/markdown": [
       "\n",
       "| bedrooms | frequency |\n",
       "|---|---|\n",
       "| 1          |   58       |\n",
       "| 2          |  895       |\n",
       "| 3          | 3140       |\n",
       "| 4          | 2133       |\n",
       "| 5 and more |  607       |\n",
       "\n"
      ],
      "text/plain": [
       "  bedrooms   frequency\n",
       "1 1            58     \n",
       "2 2           895     \n",
       "3 3          3140     \n",
       "4 4          2133     \n",
       "5 5 and more  607     "
      ]
     },
     "metadata": {},
     "output_type": "display_data"
    }
   ],
   "source": [
    "group.bed <- maindata %>%\n",
    "group_by(bedrooms) %>%\n",
    "summarize(frequency=n())\n",
    "group.bed <- group.bed[2:5,]\n",
    "group.bed <- rbind(group.bed, c(\"5 and more\", 607))\n",
    "group.bed$frequency <- as.numeric(group.bed$frequency)\n",
    "group.bed"
   ]
  },
  {
   "cell_type": "code",
   "execution_count": 25,
   "metadata": {
    "scrolled": false
   },
   "outputs": [
    {
     "data": {
      "image/png": "[encoded data removed]",
      "text/plain": [
       "Plot with title \"bedrooms\""
      ]
     },
     "metadata": {},
     "output_type": "display_data"
    }
   ],
   "source": [
    "pct = (group.bed$frequency/sum(group.bed$frequency))*100\n",
    "pct = round(pct,2)\n",
    "labels = c(\"1 bedroom\",\"2 bedrooms\",\"3 bedrooms\",\"4 bedrooms\",\">= 5 bedrooms\")\n",
    "labels = paste(labels,pct, \"%\")\n",
    "pie(pct, main=\"bedrooms\", radius = 0.5, labels = labels, col = rainbow(nrow(group.bed)))"
   ]
  },
  {
   "cell_type": "markdown",
   "metadata": {},
   "source": [
    " Most houses in this dataset, almost 50% of them has 3 bedrooms, about 30% of them has 4 bedrooms and about 13% of them has 2 bedrooms, 1 bedroom is only 0.85%. Moreover, 8.88% of the houses in this dataset has bedrooms more than or equal to 5."
   ]
  },
  {
   "cell_type": "markdown",
   "metadata": {},
   "source": [
    "### 5.4 number of bathroom"
   ]
  },
  {
   "cell_type": "code",
   "execution_count": 26,
   "metadata": {
    "scrolled": false
   },
   "outputs": [
    {
     "data": {
      "image/png": "[encoded data removed]",
      "text/plain": [
       "Plot with title \"distribution of bathroom's number\""
      ]
     },
     "metadata": {},
     "output_type": "display_data"
    }
   ],
   "source": [
    "no.bath <- table(maindata$bathrooms)\n",
    "barplot(no.bath, xlab = \"no. of bathroom\", ylab = \"frequency\", main = \"distribution of bathroom's number\", col = \"lightblue\")"
   ]
  },
  {
   "cell_type": "markdown",
   "metadata": {},
   "source": [
    " from this data, if the house doesnt have 2.5 bathrooms, then it tends to have only 1 bathroom or 1.75 bathrooms."
   ]
  },
  {
   "cell_type": "code",
   "execution_count": 27,
   "metadata": {},
   "outputs": [
    {
     "name": "stdout",
     "output_type": "stream",
     "text": [
      "'data.frame':\t6837 obs. of  16 variables:\n",
      " $ year           : Factor w/ 2 levels \"2014\",\"2015\": 2 2 2 2 2 2 2 2 2 2 ...\n",
      " $ price          : num  180000 510000 291850 229500 323000 ...\n",
      " $ bedrooms       : int  2 3 3 3 3 3 5 4 3 4 ...\n",
      " $ bathrooms      : num  1 2 1.5 1 2.5 2.5 2 3 1 2.5 ...\n",
      " $ sqft_living    : int  770 1680 1060 1780 1890 3560 1810 2950 1250 2570 ...\n",
      " $ sqft_lot       : int  10000 8080 9711 7470 6560 9796 4850 5000 9774 7173 ...\n",
      " $ floors         : num  1 1 1 1 2 1 1.5 2 1 2 ...\n",
      " $ waterfront     : int  0 0 0 0 0 0 0 0 0 0 ...\n",
      " $ condition      : int  3 3 3 3 3 3 3 3 4 3 ...\n",
      " $ grade          : int  6 8 7 7 7 8 7 9 7 8 ...\n",
      " $ sqft_above     : int  770 1680 1060 1050 1890 1860 1810 1980 1250 2570 ...\n",
      " $ sqft_basement  : int  0 0 0 730 0 1700 0 970 0 0 ...\n",
      " $ yr_built       : int  1933 1987 1963 1960 2003 1965 1900 1979 1969 2005 ...\n",
      " $ yr_renovated   : int  0 0 0 0 0 0 0 0 0 0 ...\n",
      " $ avg.condi.grade: num  5.31 6.08 5.69 5.69 5.69 ...\n",
      " $ age.of.house   : num  82 28 52 55 12 50 115 36 46 10 ...\n"
     ]
    }
   ],
   "source": [
    "str(maindata)"
   ]
  },
  {
   "cell_type": "markdown",
   "metadata": {},
   "source": [
    "### 5.5 price and sqft lot"
   ]
  },
  {
   "cell_type": "code",
   "execution_count": 62,
   "metadata": {
    "scrolled": false
   },
   "outputs": [
    {
     "data": {
      "image/png": "[encoded data removed]",
      "text/plain": [
       "plot without title"
      ]
     },
     "metadata": {},
     "output_type": "display_data"
    }
   ],
   "source": [
    "plot(maindata$sqft_living, maindata$price, pch=20, col='red', xlab=\"sqft of living room\", ylab=\"Price\")\n",
    "options(scipen=4)\n",
    "model <- lm(price~sqft_living, data = maindata)\n",
    "abline(model, col=\"darkblue\",lwd=3)"
   ]
  },
  {
   "cell_type": "markdown",
   "metadata": {},
   "source": [
    "    We can see the positive correlation between price and how big is the living room. the bigger the living room, the higher the price."
   ]
  },
  {
   "cell_type": "markdown",
   "metadata": {},
   "source": [
    "## 6. Response Variable"
   ]
  },
  {
   "cell_type": "markdown",
   "metadata": {},
   "source": [
    "        For this project, the numerical continuous response variable is price. It's simple, we want to predict the price of house by using linear regression because from this dataset, it makes most sense to predict."
   ]
  },
  {
   "cell_type": "markdown",
   "metadata": {},
   "source": [
    "## 7. Explore Correlations"
   ]
  },
  {
   "cell_type": "code",
   "execution_count": 29,
   "metadata": {
    "scrolled": false
   },
   "outputs": [
    {
     "name": "stderr",
     "output_type": "stream",
     "text": [
      "\n",
      "Attaching package: 'psych'\n",
      "\n",
      "The following objects are masked from 'package:ggplot2':\n",
      "\n",
      "    %+%, alpha\n",
      "\n"
     ]
    }
   ],
   "source": [
    "library(psych)"
   ]
  },
  {
   "cell_type": "code",
   "execution_count": 30,
   "metadata": {
    "scrolled": true
   },
   "outputs": [
    {
     "data": {
      "image/png": "[encoded data removed]",
      "text/plain": [
       "plot without title"
      ]
     },
     "metadata": {},
     "output_type": "display_data"
    }
   ],
   "source": [
    "pairs.panels(maindata[c(\"price\",\"sqft_lot\",'sqft_living','sqft_above','sqft_basement','yr_built','bedrooms','bathrooms','avg.condi.grade','age.of.house')])"
   ]
  },
  {
   "cell_type": "markdown",
   "metadata": {},
   "source": [
    "     We use pairs.panels from (library(psych)) and we select the column that we want to see the corelations between price and them, including; sqft_lot, sqft_living, sqft_above, sqft_basement, yr_built, bedrooms, bathrooms, avg.condi.grade and age.of.house.\n",
    "     \n",
    "     From the function we can see that sqft_lot and yr_built have a very small corelations to price. For sqft_basement, bedrooms and avg.condi.grade, the corelations are 0.31, 0.31 and 0.44, respectively. Moreover, the top 3 biggest corelations go to sqft_living (0.68), sqft_above(0.58) and bathrooms(0.51)"
   ]
  },
  {
   "cell_type": "markdown",
   "metadata": {},
   "source": [
    "## 8. Simple Linear Regression"
   ]
  },
  {
   "cell_type": "markdown",
   "metadata": {},
   "source": [
    "### 8.1 Price ~ sqft_lot"
   ]
  },
  {
   "cell_type": "code",
   "execution_count": 31,
   "metadata": {},
   "outputs": [
    {
     "data": {
      "text/plain": [
       "\n",
       "Call:\n",
       "lm(formula = price ~ sqft_lot, data = maindata)\n",
       "\n",
       "Residuals:\n",
       "     Min       1Q   Median       3Q      Max \n",
       "-1191587  -217186   -87932   100591  4800700 \n",
       "\n",
       "Coefficients:\n",
       "                Estimate   Std. Error t value Pr(>|t|)    \n",
       "(Intercept) 531801.08780   4598.04402 115.658  < 2e-16 ***\n",
       "sqft_lot         0.72956      0.08954   8.148 4.38e-16 ***\n",
       "---\n",
       "Signif. codes:  0 '***' 0.001 '**' 0.01 '*' 0.05 '.' 0.1 ' ' 1\n",
       "\n",
       "Residual standard error: 362500 on 6835 degrees of freedom\n",
       "Multiple R-squared:  0.009619,\tAdjusted R-squared:  0.009474 \n",
       "F-statistic: 66.38 on 1 and 6835 DF,  p-value: 4.38e-16\n"
      ]
     },
     "metadata": {},
     "output_type": "display_data"
    }
   ],
   "source": [
    "s1 <- lm(price~sqft_lot, data = maindata)\n",
    "summary.lm(s1)"
   ]
  },
  {
   "cell_type": "markdown",
   "metadata": {},
   "source": [
    "very significant p-value with adjusted R-squared of 0.009474 "
   ]
  },
  {
   "cell_type": "markdown",
   "metadata": {},
   "source": [
    "### 8.2 Price ~ sqft_living"
   ]
  },
  {
   "cell_type": "code",
   "execution_count": 32,
   "metadata": {
    "scrolled": true
   },
   "outputs": [
    {
     "data": {
      "text/plain": [
       "\n",
       "Call:\n",
       "lm(formula = price ~ sqft_living, data = maindata)\n",
       "\n",
       "Residuals:\n",
       "     Min       1Q   Median       3Q      Max \n",
       "-1046881  -155014   -26996   107228  3278391 \n",
       "\n",
       "Coefficients:\n",
       "              Estimate Std. Error t value Pr(>|t|)    \n",
       "(Intercept) -23726.267   8056.005  -2.945  0.00324 ** \n",
       "sqft_living    276.771      3.604  76.793  < 2e-16 ***\n",
       "---\n",
       "Signif. codes:  0 '***' 0.001 '**' 0.01 '*' 0.05 '.' 0.1 ' ' 1\n",
       "\n",
       "Residual standard error: 266900 on 6835 degrees of freedom\n",
       "Multiple R-squared:  0.4632,\tAdjusted R-squared:  0.4631 \n",
       "F-statistic:  5897 on 1 and 6835 DF,  p-value: < 2.2e-16\n"
      ]
     },
     "metadata": {},
     "output_type": "display_data"
    }
   ],
   "source": [
    "s2 <- lm(price~sqft_living, data = maindata)\n",
    "summary.lm(s2)"
   ]
  },
  {
   "cell_type": "markdown",
   "metadata": {},
   "source": [
    "very significant p-value with adjusted R-squared of 0.4631 "
   ]
  },
  {
   "cell_type": "markdown",
   "metadata": {},
   "source": [
    "### 8.3 Price ~ bedrooms"
   ]
  },
  {
   "cell_type": "code",
   "execution_count": 33,
   "metadata": {},
   "outputs": [
    {
     "data": {
      "text/plain": [
       "\n",
       "Call:\n",
       "lm(formula = price ~ bedrooms, data = maindata)\n",
       "\n",
       "Residuals:\n",
       "    Min      1Q  Median      3Q     Max \n",
       "-757833 -207795  -68010  103813 4598990 \n",
       "\n",
       "Coefficients:\n",
       "            Estimate Std. Error t value Pr(>|t|)    \n",
       "(Intercept)   117972      16177   7.293 3.38e-13 ***\n",
       "bedrooms      126608       4654  27.207  < 2e-16 ***\n",
       "---\n",
       "Signif. codes:  0 '***' 0.001 '**' 0.01 '*' 0.05 '.' 0.1 ' ' 1\n",
       "\n",
       "Residual standard error: 346000 on 6835 degrees of freedom\n",
       "Multiple R-squared:  0.09771,\tAdjusted R-squared:  0.09758 \n",
       "F-statistic: 740.2 on 1 and 6835 DF,  p-value: < 2.2e-16\n"
      ]
     },
     "metadata": {},
     "output_type": "display_data"
    }
   ],
   "source": [
    "s3 <- lm(price~bedrooms, data = maindata)\n",
    "summary.lm(s3)"
   ]
  },
  {
   "cell_type": "markdown",
   "metadata": {},
   "source": [
    "very significant p-value with adjusted R-squared of 0.09758"
   ]
  },
  {
   "cell_type": "markdown",
   "metadata": {},
   "source": [
    "### 8.4 Price ~ average between grade and condition"
   ]
  },
  {
   "cell_type": "code",
   "execution_count": 34,
   "metadata": {},
   "outputs": [
    {
     "data": {
      "text/plain": [
       "\n",
       "Call:\n",
       "lm(formula = price ~ avg.condi.grade, data = maindata)\n",
       "\n",
       "Residuals:\n",
       "    Min      1Q  Median      3Q     Max \n",
       "-687167 -169382  -44382  106468 4507325 \n",
       "\n",
       "Coefficients:\n",
       "                Estimate Std. Error t value Pr(>|t|)    \n",
       "(Intercept)      -889005      35471  -25.06   <2e-16 ***\n",
       "avg.condi.grade   227392       5597   40.63   <2e-16 ***\n",
       "---\n",
       "Signif. codes:  0 '***' 0.001 '**' 0.01 '*' 0.05 '.' 0.1 ' ' 1\n",
       "\n",
       "Residual standard error: 326900 on 6835 degrees of freedom\n",
       "Multiple R-squared:  0.1945,\tAdjusted R-squared:  0.1944 \n",
       "F-statistic:  1651 on 1 and 6835 DF,  p-value: < 2.2e-16\n"
      ]
     },
     "metadata": {},
     "output_type": "display_data"
    }
   ],
   "source": [
    "s4 <- lm(price~avg.condi.grade, data = maindata)\n",
    "summary.lm(s4)"
   ]
  },
  {
   "cell_type": "markdown",
   "metadata": {},
   "source": [
    "very significant p-value with adjusted R-squared of 0.1944"
   ]
  },
  {
   "cell_type": "markdown",
   "metadata": {},
   "source": [
    "### 8.5 age of house"
   ]
  },
  {
   "cell_type": "code",
   "execution_count": 35,
   "metadata": {
    "scrolled": true
   },
   "outputs": [
    {
     "data": {
      "text/plain": [
       "\n",
       "Call:\n",
       "lm(formula = price ~ age.of.house, data = maindata)\n",
       "\n",
       "Residuals:\n",
       "    Min      1Q  Median      3Q     Max \n",
       "-464062 -223102  -87553  102114 4778898 \n",
       "\n",
       "Coefficients:\n",
       "             Estimate Std. Error t value    Pr(>|t|)    \n",
       "(Intercept)  575572.3     7910.6  72.760     < 2e-16 ***\n",
       "age.of.house   -745.1      150.9  -4.937 0.000000813 ***\n",
       "---\n",
       "Signif. codes:  0 '***' 0.001 '**' 0.01 '*' 0.05 '.' 0.1 ' ' 1\n",
       "\n",
       "Residual standard error: 363600 on 6835 degrees of freedom\n",
       "Multiple R-squared:  0.003553,\tAdjusted R-squared:  0.003407 \n",
       "F-statistic: 24.37 on 1 and 6835 DF,  p-value: 0.0000008131\n"
      ]
     },
     "metadata": {},
     "output_type": "display_data"
    }
   ],
   "source": [
    "s5 <- lm(price~age.of.house, data = maindata)\n",
    "summary.lm(s5)"
   ]
  },
  {
   "cell_type": "markdown",
   "metadata": {},
   "source": [
    "quite significant p-value with adjusted Rsquared of 0.0000008131"
   ]
  },
  {
   "cell_type": "markdown",
   "metadata": {},
   "source": [
    "### the best SLR"
   ]
  },
  {
   "cell_type": "markdown",
   "metadata": {},
   "source": [
    "<font color = red>$Price = -23726.267 + 276.771sqft living$ </font>\n",
    " \n",
    "is the best SLR I got with very significant p-value and the adjusted R-squared of 0.4631."
   ]
  },
  {
   "cell_type": "markdown",
   "metadata": {},
   "source": [
    "## 9. Multiple Linear Regression"
   ]
  },
  {
   "cell_type": "markdown",
   "metadata": {},
   "source": [
    "### 9.1 Price ~ sqft_lot + sqft_living + sqft_above"
   ]
  },
  {
   "cell_type": "code",
   "execution_count": 36,
   "metadata": {
    "scrolled": true
   },
   "outputs": [
    {
     "data": {
      "text/plain": [
       "\n",
       "Call:\n",
       "lm(formula = price ~ sqft_lot + sqft_living + sqft_above, data = maindata)\n",
       "\n",
       "Residuals:\n",
       "     Min       1Q   Median       3Q      Max \n",
       "-1058115  -154212   -25692   106602  3246273 \n",
       "\n",
       "Coefficients:\n",
       "                Estimate   Std. Error t value Pr(>|t|)    \n",
       "(Intercept) -20438.70877   8127.03869  -2.515  0.01193 *  \n",
       "sqft_lot        -0.10154      0.06694  -1.517  0.12937    \n",
       "sqft_living    299.50925      7.50617  39.902  < 2e-16 ***\n",
       "sqft_above     -27.33730      8.26786  -3.306  0.00095 ***\n",
       "---\n",
       "Signif. codes:  0 '***' 0.001 '**' 0.01 '*' 0.05 '.' 0.1 ' ' 1\n",
       "\n",
       "Residual standard error: 266600 on 6833 degrees of freedom\n",
       "Multiple R-squared:  0.4643,\tAdjusted R-squared:  0.464 \n",
       "F-statistic:  1974 on 3 and 6833 DF,  p-value: < 2.2e-16\n"
      ]
     },
     "metadata": {},
     "output_type": "display_data"
    }
   ],
   "source": [
    "m1 <- lm(price ~ sqft_lot + sqft_living + sqft_above, data = maindata)\n",
    "summary.lm(m1)"
   ]
  },
  {
   "cell_type": "markdown",
   "metadata": {},
   "source": [
    "### 9.2 Price ~ sqft_living + sqft_above"
   ]
  },
  {
   "cell_type": "code",
   "execution_count": 37,
   "metadata": {},
   "outputs": [
    {
     "data": {
      "text/plain": [
       "\n",
       "Call:\n",
       "lm(formula = price ~ sqft_living + sqft_above, data = maindata)\n",
       "\n",
       "Residuals:\n",
       "     Min       1Q   Median       3Q      Max \n",
       "-1056274  -153818   -26359   106852  3249417 \n",
       "\n",
       "Coefficients:\n",
       "              Estimate Std. Error t value Pr(>|t|)    \n",
       "(Intercept) -20012.831   8122.960  -2.464 0.013774 *  \n",
       "sqft_living    299.239      7.505  39.873  < 2e-16 ***\n",
       "sqft_above     -28.156      8.251  -3.412 0.000648 ***\n",
       "---\n",
       "Signif. codes:  0 '***' 0.001 '**' 0.01 '*' 0.05 '.' 0.1 ' ' 1\n",
       "\n",
       "Residual standard error: 266700 on 6834 degrees of freedom\n",
       "Multiple R-squared:  0.4641,\tAdjusted R-squared:  0.4639 \n",
       "F-statistic:  2959 on 2 and 6834 DF,  p-value: < 2.2e-16\n"
      ]
     },
     "metadata": {},
     "output_type": "display_data"
    }
   ],
   "source": [
    "m2 <- lm(price ~ sqft_living + sqft_above, data = maindata)\n",
    "summary.lm(m2)"
   ]
  },
  {
   "cell_type": "code",
   "execution_count": 38,
   "metadata": {},
   "outputs": [
    {
     "data": {
      "text/html": [
       "<table>\n",
       "<thead><tr><th scope=col>Res.Df</th><th scope=col>RSS</th><th scope=col>Df</th><th scope=col>Sum of Sq</th><th scope=col>F</th><th scope=col>Pr(&gt;F)</th></tr></thead>\n",
       "<tbody>\n",
       "\t<tr><td>6833           </td><td>485750273811442</td><td>NA             </td><td>           NA  </td><td>      NA       </td><td>       NA      </td></tr>\n",
       "\t<tr><td>6834           </td><td>485913822593947</td><td>-1             </td><td>-163548782504  </td><td>2.300624       </td><td>0.1293683      </td></tr>\n",
       "</tbody>\n",
       "</table>\n"
      ],
      "text/latex": [
       "\\begin{tabular}{r|llllll}\n",
       " Res.Df & RSS & Df & Sum of Sq & F & Pr(>F)\\\\\n",
       "\\hline\n",
       "\t 6833            & 485750273811442 & NA              &            NA   &       NA        &        NA      \\\\\n",
       "\t 6834            & 485913822593947 & -1              & -163548782504   & 2.300624        & 0.1293683      \\\\\n",
       "\\end{tabular}\n"
      ],
      "text/markdown": [
       "\n",
       "| Res.Df | RSS | Df | Sum of Sq | F | Pr(>F) |\n",
       "|---|---|---|---|---|---|\n",
       "| 6833            | 485750273811442 | NA              |            NA   |       NA        |        NA       |\n",
       "| 6834            | 485913822593947 | -1              | -163548782504   | 2.300624        | 0.1293683       |\n",
       "\n"
      ],
      "text/plain": [
       "  Res.Df RSS             Df Sum of Sq     F        Pr(>F)   \n",
       "1 6833   485750273811442 NA            NA       NA        NA\n",
       "2 6834   485913822593947 -1 -163548782504 2.300624 0.1293683"
      ]
     },
     "metadata": {},
     "output_type": "display_data"
    }
   ],
   "source": [
    "anova(m1,m2)"
   ]
  },
  {
   "cell_type": "markdown",
   "metadata": {},
   "source": [
    "**p-value is not significant, so i decide to  remove variable \"sqft_lot\" out from the equation**"
   ]
  },
  {
   "cell_type": "markdown",
   "metadata": {},
   "source": [
    "### 9.3 Price ~ sqft_living + sqft_above + yr_built"
   ]
  },
  {
   "cell_type": "code",
   "execution_count": 39,
   "metadata": {
    "scrolled": true
   },
   "outputs": [
    {
     "data": {
      "text/plain": [
       "\n",
       "Call:\n",
       "lm(formula = price ~ sqft_living + sqft_above + yr_built, data = maindata)\n",
       "\n",
       "Residuals:\n",
       "     Min       1Q   Median       3Q      Max \n",
       "-1087191  -149188   -23624   107757  3208806 \n",
       "\n",
       "Coefficients:\n",
       "               Estimate  Std. Error t value Pr(>|t|)    \n",
       "(Intercept) 4807106.999  233244.248  20.610  < 2e-16 ***\n",
       "sqft_living     283.475       7.320  38.726  < 2e-16 ***\n",
       "sqft_above       25.453       8.413   3.026  0.00249 ** \n",
       "yr_built      -2480.189     119.773 -20.707  < 2e-16 ***\n",
       "---\n",
       "Signif. codes:  0 '***' 0.001 '**' 0.01 '*' 0.05 '.' 0.1 ' ' 1\n",
       "\n",
       "Residual standard error: 258700 on 6833 degrees of freedom\n",
       "Multiple R-squared:  0.4957,\tAdjusted R-squared:  0.4955 \n",
       "F-statistic:  2239 on 3 and 6833 DF,  p-value: < 2.2e-16\n"
      ]
     },
     "metadata": {},
     "output_type": "display_data"
    }
   ],
   "source": [
    "m3 <- lm(price ~ sqft_living + sqft_above + yr_built, data = maindata)\n",
    "summary.lm(m3)"
   ]
  },
  {
   "cell_type": "code",
   "execution_count": 40,
   "metadata": {
    "scrolled": true
   },
   "outputs": [
    {
     "data": {
      "text/html": [
       "<table>\n",
       "<thead><tr><th scope=col>Res.Df</th><th scope=col>RSS</th><th scope=col>Df</th><th scope=col>Sum of Sq</th><th scope=col>F</th><th scope=col>Pr(&gt;F)</th></tr></thead>\n",
       "<tbody>\n",
       "\t<tr><td>6834           </td><td>485913822593947</td><td>NA             </td><td>            NA </td><td>      NA       </td><td>          NA   </td></tr>\n",
       "\t<tr><td>6833           </td><td>457221513659106</td><td> 1             </td><td>28692308934841 </td><td>428.7955       </td><td>1.954534e-92   </td></tr>\n",
       "</tbody>\n",
       "</table>\n"
      ],
      "text/latex": [
       "\\begin{tabular}{r|llllll}\n",
       " Res.Df & RSS & Df & Sum of Sq & F & Pr(>F)\\\\\n",
       "\\hline\n",
       "\t 6834            & 485913822593947 & NA              &             NA  &       NA        &           NA   \\\\\n",
       "\t 6833            & 457221513659106 &  1              & 28692308934841  & 428.7955        & 1.954534e-92   \\\\\n",
       "\\end{tabular}\n"
      ],
      "text/markdown": [
       "\n",
       "| Res.Df | RSS | Df | Sum of Sq | F | Pr(>F) |\n",
       "|---|---|---|---|---|---|\n",
       "| 6834            | 485913822593947 | NA              |             NA  |       NA        |           NA    |\n",
       "| 6833            | 457221513659106 |  1              | 28692308934841  | 428.7955        | 1.954534e-92    |\n",
       "\n"
      ],
      "text/plain": [
       "  Res.Df RSS             Df Sum of Sq      F        Pr(>F)      \n",
       "1 6834   485913822593947 NA             NA       NA           NA\n",
       "2 6833   457221513659106  1 28692308934841 428.7955 1.954534e-92"
      ]
     },
     "metadata": {},
     "output_type": "display_data"
    }
   ],
   "source": [
    "anova(m2,m3)"
   ]
  },
  {
   "cell_type": "markdown",
   "metadata": {},
   "source": [
    "**model3 is better than model2**"
   ]
  },
  {
   "cell_type": "markdown",
   "metadata": {},
   "source": [
    "### 9.4 Price ~ sqft_living + sqft_above + age.of.house"
   ]
  },
  {
   "cell_type": "code",
   "execution_count": 41,
   "metadata": {},
   "outputs": [
    {
     "data": {
      "text/plain": [
       "\n",
       "Call:\n",
       "lm(formula = price ~ sqft_living + sqft_above + age.of.house, \n",
       "    data = maindata)\n",
       "\n",
       "Residuals:\n",
       "     Min       1Q   Median       3Q      Max \n",
       "-1087191  -149188   -23624   107757  3208806 \n",
       "\n",
       "Coefficients:\n",
       "                Estimate  Std. Error t value Pr(>|t|)    \n",
       "(Intercept)  -190474.072   11395.601 -16.715  < 2e-16 ***\n",
       "sqft_living      283.475       7.320  38.726  < 2e-16 ***\n",
       "sqft_above        25.453       8.413   3.026  0.00249 ** \n",
       "age.of.house    2480.189     119.773  20.707  < 2e-16 ***\n",
       "---\n",
       "Signif. codes:  0 '***' 0.001 '**' 0.01 '*' 0.05 '.' 0.1 ' ' 1\n",
       "\n",
       "Residual standard error: 258700 on 6833 degrees of freedom\n",
       "Multiple R-squared:  0.4957,\tAdjusted R-squared:  0.4955 \n",
       "F-statistic:  2239 on 3 and 6833 DF,  p-value: < 2.2e-16\n"
      ]
     },
     "metadata": {},
     "output_type": "display_data"
    }
   ],
   "source": [
    "m4 <- lm(price ~ sqft_living + sqft_above + age.of.house, data = maindata)\n",
    "summary.lm(m4)"
   ]
  },
  {
   "cell_type": "markdown",
   "metadata": {},
   "source": [
    "**model3 has the same significant and the same adjusted R-squared as model4, I choose to continue with model3**"
   ]
  },
  {
   "cell_type": "markdown",
   "metadata": {},
   "source": [
    "### 9.5 Price ~ sqft_living + sqft_above + yr_built + bedrooms"
   ]
  },
  {
   "cell_type": "code",
   "execution_count": 42,
   "metadata": {},
   "outputs": [
    {
     "data": {
      "text/plain": [
       "\n",
       "Call:\n",
       "lm(formula = price ~ sqft_living + sqft_above + yr_built + bedrooms, \n",
       "    data = maindata)\n",
       "\n",
       "Residuals:\n",
       "     Min       1Q   Median       3Q      Max \n",
       "-1180037  -140737   -21324   105910  3162658 \n",
       "\n",
       "Coefficients:\n",
       "               Estimate  Std. Error t value Pr(>|t|)    \n",
       "(Intercept) 5047226.273  230159.275  21.929   <2e-16 ***\n",
       "sqft_living     328.649       7.822  42.016   <2e-16 ***\n",
       "sqft_above       17.396       8.299   2.096   0.0361 *  \n",
       "yr_built      -2533.347     117.951 -21.478   <2e-16 ***\n",
       "bedrooms     -63613.436    4286.363 -14.841   <2e-16 ***\n",
       "---\n",
       "Signif. codes:  0 '***' 0.001 '**' 0.01 '*' 0.05 '.' 0.1 ' ' 1\n",
       "\n",
       "Residual standard error: 254600 on 6832 degrees of freedom\n",
       "Multiple R-squared:  0.5115,\tAdjusted R-squared:  0.5112 \n",
       "F-statistic:  1788 on 4 and 6832 DF,  p-value: < 2.2e-16\n"
      ]
     },
     "metadata": {},
     "output_type": "display_data"
    }
   ],
   "source": [
    "m5 <- lm(price ~ sqft_living + sqft_above + yr_built + bedrooms, data = maindata)\n",
    "summary.lm(m5)"
   ]
  },
  {
   "cell_type": "code",
   "execution_count": 43,
   "metadata": {},
   "outputs": [
    {
     "data": {
      "text/html": [
       "<table>\n",
       "<thead><tr><th scope=col>Res.Df</th><th scope=col>RSS</th><th scope=col>Df</th><th scope=col>Sum of Sq</th><th scope=col>F</th><th scope=col>Pr(&gt;F)</th></tr></thead>\n",
       "<tbody>\n",
       "\t<tr><td>6833           </td><td>457221513659106</td><td>NA             </td><td>            NA </td><td>     NA        </td><td>          NA   </td></tr>\n",
       "\t<tr><td>6832           </td><td>442941827301177</td><td> 1             </td><td>14279686357929 </td><td>220.252        </td><td>4.603068e-49   </td></tr>\n",
       "</tbody>\n",
       "</table>\n"
      ],
      "text/latex": [
       "\\begin{tabular}{r|llllll}\n",
       " Res.Df & RSS & Df & Sum of Sq & F & Pr(>F)\\\\\n",
       "\\hline\n",
       "\t 6833            & 457221513659106 & NA              &             NA  &      NA         &           NA   \\\\\n",
       "\t 6832            & 442941827301177 &  1              & 14279686357929  & 220.252         & 4.603068e-49   \\\\\n",
       "\\end{tabular}\n"
      ],
      "text/markdown": [
       "\n",
       "| Res.Df | RSS | Df | Sum of Sq | F | Pr(>F) |\n",
       "|---|---|---|---|---|---|\n",
       "| 6833            | 457221513659106 | NA              |             NA  |      NA         |           NA    |\n",
       "| 6832            | 442941827301177 |  1              | 14279686357929  | 220.252         | 4.603068e-49    |\n",
       "\n"
      ],
      "text/plain": [
       "  Res.Df RSS             Df Sum of Sq      F       Pr(>F)      \n",
       "1 6833   457221513659106 NA             NA      NA           NA\n",
       "2 6832   442941827301177  1 14279686357929 220.252 4.603068e-49"
      ]
     },
     "metadata": {},
     "output_type": "display_data"
    }
   ],
   "source": [
    "anova(m3,m5)"
   ]
  },
  {
   "cell_type": "markdown",
   "metadata": {},
   "source": [
    "**model5 is now better than model 3**"
   ]
  },
  {
   "cell_type": "markdown",
   "metadata": {},
   "source": [
    "### 9.6 Price ~ sqft_living + sqft_above + yr_built + bedrooms + bathrooms"
   ]
  },
  {
   "cell_type": "code",
   "execution_count": 44,
   "metadata": {
    "scrolled": true
   },
   "outputs": [
    {
     "data": {
      "text/plain": [
       "\n",
       "Call:\n",
       "lm(formula = price ~ sqft_living + sqft_above + yr_built + bedrooms + \n",
       "    bathrooms, data = maindata)\n",
       "\n",
       "Residuals:\n",
       "     Min       1Q   Median       3Q      Max \n",
       "-1265192  -139276   -19346   103634  3092307 \n",
       "\n",
       "Coefficients:\n",
       "               Estimate  Std. Error t value Pr(>|t|)    \n",
       "(Intercept) 6526889.901  253082.755  25.790  < 2e-16 ***\n",
       "sqft_living     278.432       8.599  32.381  < 2e-16 ***\n",
       "sqft_above       24.180       8.210   2.945  0.00324 ** \n",
       "yr_built      -3317.522     130.568 -25.408  < 2e-16 ***\n",
       "bedrooms     -74149.269    4306.003 -17.220  < 2e-16 ***\n",
       "bathrooms     92061.768    6929.511  13.285  < 2e-16 ***\n",
       "---\n",
       "Signif. codes:  0 '***' 0.001 '**' 0.01 '*' 0.05 '.' 0.1 ' ' 1\n",
       "\n",
       "Residual standard error: 251400 on 6831 degrees of freedom\n",
       "Multiple R-squared:  0.5238,\tAdjusted R-squared:  0.5234 \n",
       "F-statistic:  1503 on 5 and 6831 DF,  p-value: < 2.2e-16\n"
      ]
     },
     "metadata": {},
     "output_type": "display_data"
    }
   ],
   "source": [
    "m6 <- lm(price ~ sqft_living + sqft_above + yr_built + bedrooms + bathrooms, data = maindata)\n",
    "summary.lm(m6)"
   ]
  },
  {
   "cell_type": "code",
   "execution_count": 45,
   "metadata": {},
   "outputs": [
    {
     "data": {
      "text/html": [
       "<table>\n",
       "<thead><tr><th scope=col>Res.Df</th><th scope=col>RSS</th><th scope=col>Df</th><th scope=col>Sum of Sq</th><th scope=col>F</th><th scope=col>Pr(&gt;F)</th></tr></thead>\n",
       "<tbody>\n",
       "\t<tr><td>6832           </td><td>442941827301177</td><td>NA             </td><td>            NA </td><td>      NA       </td><td>          NA   </td></tr>\n",
       "\t<tr><td>6831           </td><td>431785101313282</td><td> 1             </td><td>11156725987895 </td><td>176.5035       </td><td>8.733736e-40   </td></tr>\n",
       "</tbody>\n",
       "</table>\n"
      ],
      "text/latex": [
       "\\begin{tabular}{r|llllll}\n",
       " Res.Df & RSS & Df & Sum of Sq & F & Pr(>F)\\\\\n",
       "\\hline\n",
       "\t 6832            & 442941827301177 & NA              &             NA  &       NA        &           NA   \\\\\n",
       "\t 6831            & 431785101313282 &  1              & 11156725987895  & 176.5035        & 8.733736e-40   \\\\\n",
       "\\end{tabular}\n"
      ],
      "text/markdown": [
       "\n",
       "| Res.Df | RSS | Df | Sum of Sq | F | Pr(>F) |\n",
       "|---|---|---|---|---|---|\n",
       "| 6832            | 442941827301177 | NA              |             NA  |       NA        |           NA    |\n",
       "| 6831            | 431785101313282 |  1              | 11156725987895  | 176.5035        | 8.733736e-40    |\n",
       "\n"
      ],
      "text/plain": [
       "  Res.Df RSS             Df Sum of Sq      F        Pr(>F)      \n",
       "1 6832   442941827301177 NA             NA       NA           NA\n",
       "2 6831   431785101313282  1 11156725987895 176.5035 8.733736e-40"
      ]
     },
     "metadata": {},
     "output_type": "display_data"
    }
   ],
   "source": [
    "anova(m5,m6)"
   ]
  },
  {
   "cell_type": "markdown",
   "metadata": {},
   "source": [
    "**test shows that the variable \"bathrooms\" is significant, hence, model6 is better than model5**"
   ]
  },
  {
   "cell_type": "markdown",
   "metadata": {},
   "source": [
    "### 9.7 Price ~ sqft_living + sqft_above + yr_built + bedrooms + bathrooms + avg.condi.grade"
   ]
  },
  {
   "cell_type": "code",
   "execution_count": 46,
   "metadata": {
    "scrolled": true
   },
   "outputs": [
    {
     "data": {
      "text/plain": [
       "\n",
       "Call:\n",
       "lm(formula = price ~ sqft_living + sqft_above + yr_built + bedrooms + \n",
       "    bathrooms + avg.condi.grade, data = maindata)\n",
       "\n",
       "Residuals:\n",
       "     Min       1Q   Median       3Q      Max \n",
       "-1221757  -136356   -19361   101316  3073378 \n",
       "\n",
       "Coefficients:\n",
       "                   Estimate  Std. Error t value Pr(>|t|)    \n",
       "(Intercept)     5504629.927  256810.217  21.435  < 2e-16 ***\n",
       "sqft_living         248.896       8.649  28.778  < 2e-16 ***\n",
       "sqft_above           27.599       8.066   3.421 0.000627 ***\n",
       "yr_built          -3009.618     129.706 -23.203  < 2e-16 ***\n",
       "bedrooms         -72639.494    4230.363 -17.171  < 2e-16 ***\n",
       "bathrooms         87180.223    6813.028  12.796  < 2e-16 ***\n",
       "avg.condi.grade   75395.691    4758.396  15.845  < 2e-16 ***\n",
       "---\n",
       "Signif. codes:  0 '***' 0.001 '**' 0.01 '*' 0.05 '.' 0.1 ' ' 1\n",
       "\n",
       "Residual standard error: 246900 on 6830 degrees of freedom\n",
       "Multiple R-squared:  0.5407,\tAdjusted R-squared:  0.5403 \n",
       "F-statistic:  1340 on 6 and 6830 DF,  p-value: < 2.2e-16\n"
      ]
     },
     "metadata": {},
     "output_type": "display_data"
    }
   ],
   "source": [
    "m7 <- lm(price ~ sqft_living + sqft_above + yr_built + bedrooms + bathrooms + avg.condi.grade, data = maindata)\n",
    "summary.lm(m7)"
   ]
  },
  {
   "cell_type": "code",
   "execution_count": 47,
   "metadata": {
    "scrolled": true
   },
   "outputs": [
    {
     "data": {
      "text/html": [
       "<table>\n",
       "<thead><tr><th scope=col>Res.Df</th><th scope=col>RSS</th><th scope=col>Df</th><th scope=col>Sum of Sq</th><th scope=col>F</th><th scope=col>Pr(&gt;F)</th></tr></thead>\n",
       "<tbody>\n",
       "\t<tr><td>6831           </td><td>431785101313282</td><td>NA             </td><td>            NA </td><td>      NA       </td><td>          NA   </td></tr>\n",
       "\t<tr><td>6830           </td><td>416476287397033</td><td> 1             </td><td>15308813916250 </td><td>251.0568       </td><td>1.478882e-55   </td></tr>\n",
       "</tbody>\n",
       "</table>\n"
      ],
      "text/latex": [
       "\\begin{tabular}{r|llllll}\n",
       " Res.Df & RSS & Df & Sum of Sq & F & Pr(>F)\\\\\n",
       "\\hline\n",
       "\t 6831            & 431785101313282 & NA              &             NA  &       NA        &           NA   \\\\\n",
       "\t 6830            & 416476287397033 &  1              & 15308813916250  & 251.0568        & 1.478882e-55   \\\\\n",
       "\\end{tabular}\n"
      ],
      "text/markdown": [
       "\n",
       "| Res.Df | RSS | Df | Sum of Sq | F | Pr(>F) |\n",
       "|---|---|---|---|---|---|\n",
       "| 6831            | 431785101313282 | NA              |             NA  |       NA        |           NA    |\n",
       "| 6830            | 416476287397033 |  1              | 15308813916250  | 251.0568        | 1.478882e-55    |\n",
       "\n"
      ],
      "text/plain": [
       "  Res.Df RSS             Df Sum of Sq      F        Pr(>F)      \n",
       "1 6831   431785101313282 NA             NA       NA           NA\n",
       "2 6830   416476287397033  1 15308813916250 251.0568 1.478882e-55"
      ]
     },
     "metadata": {},
     "output_type": "display_data"
    }
   ],
   "source": [
    "anova(m6,m7)"
   ]
  },
  {
   "cell_type": "markdown",
   "metadata": {},
   "source": [
    "**model7 is better than model6**"
   ]
  },
  {
   "cell_type": "markdown",
   "metadata": {},
   "source": [
    "#### test for independence of errors"
   ]
  },
  {
   "cell_type": "code",
   "execution_count": 52,
   "metadata": {},
   "outputs": [
    {
     "name": "stderr",
     "output_type": "stream",
     "text": [
      "Loading required package: carData\n",
      "\n",
      "Attaching package: 'car'\n",
      "\n",
      "The following object is masked from 'package:psych':\n",
      "\n",
      "    logit\n",
      "\n",
      "The following object is masked from 'package:dplyr':\n",
      "\n",
      "    recode\n",
      "\n"
     ]
    }
   ],
   "source": [
    "library(car)"
   ]
  },
  {
   "cell_type": "code",
   "execution_count": 53,
   "metadata": {
    "scrolled": false
   },
   "outputs": [
    {
     "data": {
      "text/plain": [
       " lag Autocorrelation D-W Statistic p-value\n",
       "   1    0.0004780789      1.999033    0.95\n",
       " Alternative hypothesis: rho != 0"
      ]
     },
     "metadata": {},
     "output_type": "display_data"
    }
   ],
   "source": [
    "dwt(m7)"
   ]
  },
  {
   "cell_type": "markdown",
   "metadata": {},
   "source": [
    "p-value => 0.05, assumption is not violated"
   ]
  },
  {
   "cell_type": "markdown",
   "metadata": {},
   "source": [
    "#### test for colinearity"
   ]
  },
  {
   "cell_type": "code",
   "execution_count": 54,
   "metadata": {
    "scrolled": false
   },
   "outputs": [
    {
     "data": {
      "text/html": [
       "<dl class=dl-horizontal>\n",
       "\t<dt>sqft_living</dt>\n",
       "\t\t<dd>6.725218628911</dd>\n",
       "\t<dt>sqft_above</dt>\n",
       "\t\t<dd>4.83980282801971</dd>\n",
       "\t<dt>yr_built</dt>\n",
       "\t\t<dd>1.60099015744526</dd>\n",
       "\t<dt>bedrooms</dt>\n",
       "\t\t<dd>1.62215079723646</dd>\n",
       "\t<dt>bathrooms</dt>\n",
       "\t\t<dd>3.04900028982101</dd>\n",
       "\t<dt>avg.condi.grade</dt>\n",
       "\t\t<dd>1.26652698228309</dd>\n",
       "</dl>\n"
      ],
      "text/latex": [
       "\\begin{description*}\n",
       "\\item[sqft\\textbackslash{}\\_living] 6.725218628911\n",
       "\\item[sqft\\textbackslash{}\\_above] 4.83980282801971\n",
       "\\item[yr\\textbackslash{}\\_built] 1.60099015744526\n",
       "\\item[bedrooms] 1.62215079723646\n",
       "\\item[bathrooms] 3.04900028982101\n",
       "\\item[avg.condi.grade] 1.26652698228309\n",
       "\\end{description*}\n"
      ],
      "text/markdown": [
       "sqft_living\n",
       ":   6.725218628911sqft_above\n",
       ":   4.83980282801971yr_built\n",
       ":   1.60099015744526bedrooms\n",
       ":   1.62215079723646bathrooms\n",
       ":   3.04900028982101avg.condi.grade\n",
       ":   1.26652698228309\n",
       "\n"
      ],
      "text/plain": [
       "    sqft_living      sqft_above        yr_built        bedrooms       bathrooms \n",
       "       6.725219        4.839803        1.600990        1.622151        3.049000 \n",
       "avg.condi.grade \n",
       "       1.266527 "
      ]
     },
     "metadata": {},
     "output_type": "display_data"
    }
   ],
   "source": [
    "vif(m7)"
   ]
  },
  {
   "cell_type": "markdown",
   "metadata": {},
   "source": [
    "every number is less than 10, assumption is not violated"
   ]
  },
  {
   "cell_type": "markdown",
   "metadata": {},
   "source": [
    "the best MLR model is\n",
    "   \n",
    "<font color = blue>\n",
    "$Price = 5504629.927 + 248.896sqft living + 27.599sqft above + -3009.618yr built + -72639.494bedrooms + 87180.223bathrooms + 75395.691avg.condi.grade$\n",
    " </font>\n",
    "  \n",
    "We know that negative relationship between price and number of bedrooms does not make sense but we tried to move bedrooms variable out and anova test show that it is significant so, statistically, this model is the best we got."
   ]
  },
  {
   "cell_type": "markdown",
   "metadata": {},
   "source": [
    "## 10. Project Report"
   ]
  },
  {
   "cell_type": "markdown",
   "metadata": {},
   "source": [
    "As we mentioned earlier, the housing prices depends on a lot of factors, and these factors also vary across different markets. Sometimes we do not know whether the house is overpriced or not. In order to help the buyers to have a better understanding of the housing price in real estate market. In this report we are going to break what what have we find in this analysis and predict the housing prices. \n",
    "\n",
    "At first, when we are exploring the data, we can see that this dataset include housing information from 2014 - 2015. There are 21 parameters in this dataset, including crucial factors such as number of bedrooms, bathrooms, square feat and so on. These variables mentioned might be the factors to determine the housing prices.\n",
    "\n",
    "After looking through the data and checking if there are anything negative and N/A values for us to clean, we are now moving on to selecting the variables that we need, since this dataset has year of 2014 and 2015, we are going to choose 2015 for linear regression we are using later on.\n",
    "\n",
    "In addition, except for the year, we have only select other variables we want to work with in this analysis, the variables include: year, price, bedrooms, bathrooms, sqft_living, sqft_lot, sqft_above, sqft_basement, floors, waterfront, condition, grade, year_built and year_renovated. The reasons we are choosing these variables and removing other ones is because we believe these are the crucial factors for us to predict the housing price.\n",
    "\n",
    "After we are finished with selecting the variables we want to work with, we decided to add more columns, the first one is average condition grade, we recalculated the score of grade and condition and find the average of it because these are important and useful data for this analysis. The second column that was added here is the age of house which was calculated by 2015 - the year that the houses were built since this can be a factor for the pricing as well. \n",
    "\n",
    "To be able to have a better understanding with the other variables we are working with, we have also looked at the proportion and number of the bedroom and bathrooms of each house. We have noticed that almost half of the houses in this dataset have 3 bedrooms, which is 50%. And about 30% of them have 4 bedrooms. However, there are 13% of them have 2 bedrooms and only 0.85% have one bedroom. Furthermore, 8.88% of the houses in this dataset has bedrooms that are more than 5.What about the bathrooms then? According to the dataset, most of the houses here have either 2.5, 1.75 or 1 bathroom(s).\n",
    "\n",
    "So now we are more clearer with the variables we are working with, it brings us to the next point. Are these variables have a relationship with one another. Let’s look at the relationship between the size of the living room and the price. As you can see, it has shown there is a positive correlation between the price and the size of the living room. Which means that the bigger the living room, the higher the price.\n",
    "\n",
    "Finally, it is time for us to do the linear regression for this project. Since the numerical continuous response variable is the price. It has made it very clear for us. We could predict the housing price by using the linear regression model. Let’s start with simple linear regression, we try to see the relationship between price and different factors, such as sqft lot, sqft living, bedrooms, average between grade and condition and age of the house. We have found that the best SLR here is the price with squarefit living with quite significant value with adjusted R-squared of 0.4631. Which is the highest out of all the models.\n",
    "\n",
    "After we are done with simple ones, let’s move on to the more complex ones here. Now that we know price with squarefit living is the best combination. We will be trying 7 different models adding different variables to test out which one is the best. As you can see, we have found that model 7 has the best value. \n",
    "\n",
    "In conclusion, among the 7 models we have found that model 7 has quite the significant value with adjusted R-squared: 0.5403. We know that there is a negative relationship between price and number of bedrooms. However, when we try to move the bedrooms variables it has shown that it is significant. Therefore, model 7 should be the baseline to help predicting the housing price. If you want to use this linear regression for this year. According to FRED economic data. Index of housing prices in San Francisco from 2015 to 2019 has increased by 28.08%. Hence, you can multiply to outcome by that percentage."
   ]
  }
 ],
 "metadata": {
  "kernelspec": {
   "display_name": "R",
   "language": "R",
   "name": "ir"
  },
  "language_info": {
   "codemirror_mode": "r",
   "file_extension": ".r",
   "mimetype": "text/x-r-source",
   "name": "R",
   "pygments_lexer": "r",
   "version": "3.6.1"
  }
 },
 "nbformat": 4,
 "nbformat_minor": 2
}
